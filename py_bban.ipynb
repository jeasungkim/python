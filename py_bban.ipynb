{
  "nbformat": 4,
  "nbformat_minor": 0,
  "metadata": {
    "colab": {
      "provenance": [],
      "authorship_tag": "ABX9TyPTpWNvHyBBlcqj5Y+zefmM",
      "include_colab_link": true
    },
    "kernelspec": {
      "name": "python3",
      "display_name": "Python 3"
    },
    "language_info": {
      "name": "python"
    }
  },
  "cells": [
    {
      "cell_type": "markdown",
      "metadata": {
        "id": "view-in-github",
        "colab_type": "text"
      },
      "source": [
        "<a href=\"https://colab.research.google.com/github/jeasungkim/python/blob/main/py_bban.ipynb\" target=\"_parent\"><img src=\"https://colab.research.google.com/assets/colab-badge.svg\" alt=\"Open In Colab\"/></a>"
      ]
    },
    {
      "cell_type": "markdown",
      "source": [],
      "metadata": {
        "id": "HyuRQGp2nFRx"
      }
    },
    {
      "cell_type": "markdown",
      "source": [
        "# CH1 **파이썬 문법**"
      ],
      "metadata": {
        "id": "_huiFOBnh1TY"
      }
    },
    {
      "cell_type": "markdown",
      "source": [
        "## 자료형\n",
        "#### 숫자형\n",
        "* 정수 : 123,-20, 0  \n",
        "* 실수 : 123.45, -4321.5, 6.08e9  \n",
        "* 8잔수 : 0o456, 0o123 \\\n",
        "* 16진수 : 0xFF, 0x0D, 0x0A"
      ],
      "metadata": {
        "id": "GQhtnyTyiaeS"
      }
    },
    {
      "cell_type": "markdown",
      "source": [
        "#### 변수\n",
        "* 문자 또는 밑줄로 시작(beta,_kim)\n",
        "* 대소문자를 구분한다.(sum, Sum SUM)\n",
        "* 영문자, 숫자, 밑줄(A~z,0~9,_)\n",
        "* 파이썬 키워드는 사용 불가"
      ],
      "metadata": {
        "id": "cQVBkWccoUQe"
      }
    },
    {
      "cell_type": "code",
      "source": [
        "a = 10\n",
        "b = 20\n",
        "c = a + b\n",
        "print(c)"
      ],
      "metadata": {
        "colab": {
          "base_uri": "https://localhost:8080/"
        },
        "id": "e67glPpLjgi7",
        "outputId": "cdb3a8fc-6d80-4f28-8609-82c75d6cb083"
      },
      "execution_count": null,
      "outputs": [
        {
          "output_type": "stream",
          "name": "stdout",
          "text": [
            "30\n"
          ]
        }
      ]
    },
    {
      "cell_type": "code",
      "source": [
        "a = 10\n",
        "b = 2\n",
        "c = a/b #나눗셈\n",
        "d = a-b\n",
        "e = a*b\n",
        "f = a//b # 몪\n",
        "g = a%b #나머지\n",
        "h = a**b #제곱\n",
        "print(c,d,e,f,g,h)\n",
        "# 시험 나옴"
      ],
      "metadata": {
        "colab": {
          "base_uri": "https://localhost:8080/"
        },
        "id": "gVZ8U50PktYq",
        "outputId": "e6aa05bc-3d63-427d-f625-514b7fd67f98"
      },
      "execution_count": null,
      "outputs": [
        {
          "output_type": "stream",
          "name": "stdout",
          "text": [
            "5.0 8 20 5 0 100\n"
          ]
        }
      ]
    },
    {
      "cell_type": "markdown",
      "source": [
        "#### 문자열\n",
        "1. 큰 따옴표 : \"Hello World! it\\'s\"\n",
        "2. 작은 따옴표 : '대한민국'\n",
        "3. 큰따옴표 3 : \"\"\"hello!\"\"\"\n",
        "4. 작은 따옴표 3 :'''Life is too short. You need pyhton.'''"
      ],
      "metadata": {
        "id": "cTFjaL74nIQ4"
      }
    },
    {
      "cell_type": "code",
      "source": [
        "myName = \"jeasung Kim\" # 중간에 대문자 낙타표기법 (카멜)\n",
        "my_name = \"김재성\" # 언더바 스네이크표기법\n",
        "_my_name = \"korea\"\n",
        "MYNAME = \"God is love\" # 앞에대문자 파스칼표기법\n",
        "my2name = \"12345\"\n",
        "# 2myname = \"123\"  my-name = \"231\" my name = \"231\" 안됨 시험출제\n",
        "myStr = '123' #글자 stf\n",
        "myNum = 123 # int\n",
        "\n",
        "print(myStr, myNum)\n",
        "print(type(myStr))\n",
        "print(type(myNum))"
      ],
      "metadata": {
        "id": "V2O5MoRhoFx8",
        "colab": {
          "base_uri": "https://localhost:8080/"
        },
        "outputId": "812eb750-a956-40a6-c8b9-07bf8ef0fed5"
      },
      "execution_count": null,
      "outputs": [
        {
          "output_type": "stream",
          "name": "stdout",
          "text": [
            "123 123\n",
            "<class 'str'>\n",
            "<class 'int'>\n"
          ]
        }
      ]
    },
    {
      "cell_type": "markdown",
      "source": [
        "#### 여러개 변수 할당"
      ],
      "metadata": {
        "id": "iZkUC7u7v7io"
      }
    },
    {
      "cell_type": "code",
      "source": [
        "x,y,z = \"포도\", \"딸기\", \"수박\"\n",
        "print(x)\n",
        "print(y)\n",
        "print(z)"
      ],
      "metadata": {
        "colab": {
          "base_uri": "https://localhost:8080/"
        },
        "id": "4tNz0Uh9wCrL",
        "outputId": "c88423a1-1d5e-44cc-bd9c-4a45e6554a75"
      },
      "execution_count": null,
      "outputs": [
        {
          "output_type": "stream",
          "name": "stdout",
          "text": [
            "포도\n",
            "딸기\n",
            "수박\n"
          ]
        }
      ]
    },
    {
      "cell_type": "code",
      "source": [
        "a = b = c = \"오렌지\"\n",
        "print(a)\n",
        "print(b)\n",
        "print(c)"
      ],
      "metadata": {
        "colab": {
          "base_uri": "https://localhost:8080/"
        },
        "id": "6YVBqpEswcVS",
        "outputId": "b31a9f4e-1bdf-4dc1-c658-ab6841afc035"
      },
      "execution_count": null,
      "outputs": [
        {
          "output_type": "stream",
          "name": "stdout",
          "text": [
            "오렌지\n",
            "오렌지\n",
            "오렌지\n"
          ]
        }
      ]
    },
    {
      "cell_type": "code",
      "source": [
        "fruits = [\"포도\", \"딸기\", \"수박\"]\n",
        "x,y,z = fruits\n",
        "print(x)\n",
        "print(y)\n",
        "print(z)"
      ],
      "metadata": {
        "colab": {
          "base_uri": "https://localhost:8080/"
        },
        "id": "Q5ZDcbH9wx-F",
        "outputId": "8e0051ab-46a3-4573-d43f-c20e685c6f30"
      },
      "execution_count": null,
      "outputs": [
        {
          "output_type": "stream",
          "name": "stdout",
          "text": [
            "포도\n",
            "딸기\n",
            "수박\n"
          ]
        }
      ]
    },
    {
      "cell_type": "code",
      "source": [
        "x = \"Life\"\n",
        "y = \"is\"\n",
        "z = \"beautiful\"\n",
        "print(x,y,z) # ,는 띄어쓰기\n",
        "print(x+y+z)"
      ],
      "metadata": {
        "colab": {
          "base_uri": "https://localhost:8080/"
        },
        "id": "rAe-9GIwxkve",
        "outputId": "34a3cfb2-05cb-4099-cc87-6f5a522a5842"
      },
      "execution_count": null,
      "outputs": [
        {
          "output_type": "stream",
          "name": "stdout",
          "text": [
            "Life is beautiful\n",
            "Lifeisbeautiful\n"
          ]
        }
      ]
    },
    {
      "cell_type": "code",
      "source": [
        "a = 1\n",
        "b = 2\n",
        "c = 3\n",
        "print(a,b,c)\n",
        "print(a+b+c)\n"
      ],
      "metadata": {
        "colab": {
          "base_uri": "https://localhost:8080/"
        },
        "id": "JzVSA_K_yNiS",
        "outputId": "e78c979b-e581-46cd-f2d9-398693a4e8a5"
      },
      "execution_count": null,
      "outputs": [
        {
          "output_type": "stream",
          "name": "stdout",
          "text": [
            "1 2 3\n",
            "6\n"
          ]
        }
      ]
    },
    {
      "cell_type": "markdown",
      "source": [
        "#### 데이터 유형 \n",
        "+ 텍스트\n",
        "+ 숫자\n",
        "+ 불(bool)"
      ],
      "metadata": {
        "id": "wvqTTmzZyo3h"
      }
    },
    {
      "cell_type": "code",
      "source": [
        "a = 100\n",
        "b = 200\n",
        "good = a + b\n",
        "print(a, '+', b, '=', good)\n",
        "good = a - b\n",
        "print(a, '-', b, '=', good)\n",
        "good = a * b\n",
        "print(a, '*', b, '=', good)\n",
        "good = a / b\n",
        "print(a, '/', b, '=', good)\n",
        "\n"
      ],
      "metadata": {
        "colab": {
          "base_uri": "https://localhost:8080/"
        },
        "id": "0teqi9QfzMVw",
        "outputId": "29785f64-38a7-4f08-ad43-f1781b72e521"
      },
      "execution_count": null,
      "outputs": [
        {
          "output_type": "stream",
          "name": "stdout",
          "text": [
            "100 + 200 = 300\n",
            "100 - 200 = -100\n",
            "100 * 200 = 20000\n",
            "100 / 200 = 0.5\n"
          ]
        }
      ]
    },
    {
      "cell_type": "markdown",
      "source": [
        "#### input() 함수 이용 계산기"
      ],
      "metadata": {
        "id": "aEMqqZTkAWfX"
      }
    },
    {
      "cell_type": "code",
      "source": [
        "a = int(input(\"첫번째 숫자를 입력해 주세요 :\"))\n",
        "b = int(input(\"두번째 숫자를 입력해 주세요 :\"))\n",
        "result = a + b\n",
        "print(a, '+', b, '=', result)\n",
        "result = a - b\n",
        "print(a, '-', b, '=', result)\n",
        "result = a * b\n",
        "print(a, '*', b, '=', result)\n",
        "result = a / b\n",
        "print(a, '/', b, '=', result)\n",
        "result = a ** b\n",
        "print(a, '**', b, '=', result)\n",
        "result = a // b\n",
        "print(a, '//', b, '=', result)\n",
        "result = a % b\n",
        "print(a, '%', b, '=', result)"
      ],
      "metadata": {
        "colab": {
          "base_uri": "https://localhost:8080/"
        },
        "id": "ood0I4XpAisk",
        "outputId": "b8f07792-a1e3-4b17-80ee-a88ca4d433df"
      },
      "execution_count": null,
      "outputs": [
        {
          "output_type": "stream",
          "name": "stdout",
          "text": [
            "첫번째 숫자를 입력해 주세요 :9\n",
            "두번째 숫자를 입력해 주세요 :4\n",
            "9 + 4 = 13\n",
            "9 - 4 = 5\n",
            "9 * 4 = 36\n",
            "9 / 4 = 2.25\n",
            "9 ** 4 = 6561\n",
            "9 // 4 = 2\n",
            "9 % 4 = 1\n"
          ]
        }
      ]
    },
    {
      "cell_type": "code",
      "source": [
        "num1 = input(\"숫자입력1 : \")\n",
        "num2 = input(\"숫자입력2 : \")\n",
        "result = num1 + num2\n",
        "print(type(num1))\n",
        "print(num1, '+', num2, '=', result)"
      ],
      "metadata": {
        "colab": {
          "base_uri": "https://localhost:8080/"
        },
        "id": "xiEOvyyeDYen",
        "outputId": "87356e1f-65eb-4469-c7e3-1a974d1c809e"
      },
      "execution_count": null,
      "outputs": [
        {
          "output_type": "stream",
          "name": "stdout",
          "text": [
            "숫자입력1 : 1\n",
            "숫자입력2 : 2\n",
            "<class 'str'>\n",
            "1 + 2 = 12\n"
          ]
        }
      ]
    },
    {
      "cell_type": "markdown",
      "source": [
        "quiz 전화번호, 이름, 무게를 입력받아 출력 :\n",
        "입력한 내용은 이름 \"oo\", 전화번호 \"oo\"입니다.\n",
        "무게는 입력한 g수 x 10원 = 산출금액 출력"
      ],
      "metadata": {
        "id": "nKDhZ2NeEZc0"
      }
    },
    {
      "cell_type": "code",
      "source": [
        "num1 = input(\"전화번호 : \")\n",
        "num2 = input(\"이름 : \")\n",
        "num3 = int(input(\"무게 : \"))\n",
        "a = 10\n",
        "result = num3 * 10\n",
        "print(\"입력한 내용은 이름 : \", num2,\"입니다.\")\n",
        "print(\"전화번호 : \", num1 , \"입니다.\")\n",
        "print(\"무게는 \",num3, \"* 10 =\", result , \"입니다.\")"
      ],
      "metadata": {
        "colab": {
          "base_uri": "https://localhost:8080/"
        },
        "id": "gfQxXbxJFUrI",
        "outputId": "2ef20600-5599-4ae5-aadd-c3d00b5f3448"
      },
      "execution_count": null,
      "outputs": [
        {
          "output_type": "stream",
          "name": "stdout",
          "text": [
            "전화번호 : 01029851582\n",
            "이름 : 김재성\n",
            "무게 : 30\n",
            "입력한 내용은 이름 :  김재성 입니다.\n",
            "전화번호 :  01029851582 입니다.\n",
            "무게는  30 * 10 = 300 입니다.\n"
          ]
        }
      ]
    },
    {
      "cell_type": "markdown",
      "source": [
        "# 2Week"
      ],
      "metadata": {
        "id": "NQPHVkuQiFmg"
      }
    },
    {
      "cell_type": "markdown",
      "source": [
        "# print() 서식 출력"
      ],
      "metadata": {
        "id": "CCIQCWs4igzv"
      }
    },
    {
      "cell_type": "code",
      "source": [
        "print(\"%d\" % 123)\n",
        "print(\"%5d\" % 123)\n",
        "print(\"%05d\" % 123)\n",
        "\n",
        "print(\"%f\" % 123.45)\n",
        "print(\"%7.1f\" % 123.45)\n",
        "print(\"%7.3f\" % 123.45)\n",
        "\n",
        "print(\"%s\" % \"대한민국\")\n",
        "print(\"%6s\" % \"대한민국\")"
      ],
      "metadata": {
        "colab": {
          "base_uri": "https://localhost:8080/"
        },
        "id": "UUdUrG_rilqX",
        "outputId": "d08f5bea-dfb3-412b-8a19-7e1a7b0171f8"
      },
      "execution_count": 6,
      "outputs": [
        {
          "output_type": "stream",
          "name": "stdout",
          "text": [
            "123\n",
            "  123\n",
            "00123\n",
            "123.450000\n",
            "  123.5\n",
            "123.450\n",
            "대한민국\n",
            "  대한민국\n"
          ]
        }
      ]
    },
    {
      "cell_type": "markdown",
      "source": [
        "#### Format 함수 : 순서 지정 가능"
      ],
      "metadata": {
        "id": "C9ws2kgPkoQt"
      }
    },
    {
      "cell_type": "code",
      "source": [
        "print(\"{0:d} {1:5d} {2:05d}\" .format(123,456,789))"
      ],
      "metadata": {
        "colab": {
          "base_uri": "https://localhost:8080/"
        },
        "id": "IgRSSPPsj-OP",
        "outputId": "2fa48854-c080-4c5b-8619-4a1898a8e2a3"
      },
      "execution_count": 9,
      "outputs": [
        {
          "output_type": "stream",
          "name": "stdout",
          "text": [
            "123   456 00789\n"
          ]
        }
      ]
    },
    {
      "cell_type": "markdown",
      "source": [
        "### 서식 출력"
      ],
      "metadata": {
        "id": "o8yWqkYSk70K"
      }
    },
    {
      "cell_type": "code",
      "source": [
        "print(\"\\n줄바꿈\\n연습입니다.\")"
      ],
      "metadata": {
        "colab": {
          "base_uri": "https://localhost:8080/"
        },
        "id": "zVdMKiXllEg6",
        "outputId": "df14290c-b5ae-492e-e0a6-f2ee152081cb"
      },
      "execution_count": 10,
      "outputs": [
        {
          "output_type": "stream",
          "name": "stdout",
          "text": [
            "\n",
            "줄바꿈\n",
            "연습입니다.\n"
          ]
        }
      ]
    },
    {
      "cell_type": "code",
      "source": [
        "print(\"\\t탭키\\t연습\")"
      ],
      "metadata": {
        "colab": {
          "base_uri": "https://localhost:8080/"
        },
        "id": "C_-NyonNlSBT",
        "outputId": "7d639008-a613-4bbf-964a-257026c5c5e4"
      },
      "execution_count": 11,
      "outputs": [
        {
          "output_type": "stream",
          "name": "stdout",
          "text": [
            "\t탭키\t연습\n"
          ]
        }
      ]
    },
    {
      "cell_type": "code",
      "source": [
        "print(\"글자가 \\\"강조\\\"되는 효과1\") #\\다음\", ' 을 넣어서 출력이 가능\n",
        "print(\"글자가 \\'강조\\'되는 효과1\")\n",
        "print(\"역슬래시 3개 출력 \\\\\\\\\\\\\") #\\다음 \\를 넣음으로서 3개\n",
        "print(r\"\\n \\t \\\" \\\\ \\'를 그대로 출력\") #그대로 출력함"
      ],
      "metadata": {
        "colab": {
          "base_uri": "https://localhost:8080/"
        },
        "id": "J4tElm3qlesk",
        "outputId": "d1ff640d-0af0-47af-f9f0-c24452f7772c"
      },
      "execution_count": 2,
      "outputs": [
        {
          "output_type": "stream",
          "name": "stdout",
          "text": [
            "글자가 \"강조\"되는 효과1\n",
            "글자가 '강조'되는 효과1\n",
            "역슬래시 3개 출력 \\\\\\\n",
            "\\n \\t \\\" \\\\ \\'를 그대로 출력\n"
          ]
        }
      ]
    },
    {
      "cell_type": "markdown",
      "source": [
        "#### 관계 연산자"
      ],
      "metadata": {
        "id": "ZD_y0MPyoiZg"
      }
    },
    {
      "cell_type": "code",
      "source": [
        "a,b = 10, 20\n",
        "print(a==b, a!=b, a>b, a<b, a>=b, a<=b)"
      ],
      "metadata": {
        "colab": {
          "base_uri": "https://localhost:8080/"
        },
        "id": "rIoW-XGZonCe",
        "outputId": "57f72d92-a13f-4891-9feb-657da4ffe70b"
      },
      "execution_count": 3,
      "outputs": [
        {
          "output_type": "stream",
          "name": "stdout",
          "text": [
            "False True False True False True\n"
          ]
        }
      ]
    },
    {
      "cell_type": "markdown",
      "source": [
        "#### 논리 연산자"
      ],
      "metadata": {
        "id": "keDteZBCo-Vc"
      }
    },
    {
      "cell_type": "code",
      "source": [
        "a = 99\n",
        "print((a>100) and (a<200))\n",
        "print((a>100) or (a<200))\n",
        "print(not(a==100))"
      ],
      "metadata": {
        "colab": {
          "base_uri": "https://localhost:8080/"
        },
        "id": "KBDjjk3HpEHo",
        "outputId": "e8da5138-7df1-4c55-b746-ca715c357e72"
      },
      "execution_count": 6,
      "outputs": [
        {
          "output_type": "stream",
          "name": "stdout",
          "text": [
            "False\n",
            "True\n",
            "True\n"
          ]
        }
      ]
    },
    {
      "cell_type": "code",
      "source": [
        "if(123): #if구문 뒤엔 :\n",
        "  print(\"참이면 보입니다.\")\n",
        "if(0):\n",
        "  print(\"거짓이면 안보입니다.\")"
      ],
      "metadata": {
        "colab": {
          "base_uri": "https://localhost:8080/"
        },
        "id": "Vh9b_2POpgNw",
        "outputId": "e9a30801-5044-46f8-81fa-15aff4c5d847"
      },
      "execution_count": 7,
      "outputs": [
        {
          "output_type": "stream",
          "name": "stdout",
          "text": [
            "참이면 보입니다.\n"
          ]
        }
      ]
    },
    {
      "cell_type": "markdown",
      "source": [
        "### 퀴즈2 숫자 입력을 받아 동전으로 바꿔주는 프로그램( 500원, 100원, 50원, 10원)"
      ],
      "metadata": {
        "id": "c4S2NlaFvpAe"
      }
    },
    {
      "cell_type": "code",
      "source": [
        "bill = int(input(\" 바꿀돈은?  \"))\n",
        "c500 = bill // 500\n",
        "a = bill % 500\n",
        "c100 = a // 100\n",
        "b = a % 100\n",
        "c50 = b // 50\n",
        "c = b % 50\n",
        "c10 = c // 10\n",
        "d = c % 10\n",
        "print(\"bill :\", bill, \"\\n c500 :\", c500, \"\\n c100 :\", c100, \"\\n c50 :\", c50, \"\\n c10 :\", c10, \"\\n 나머지 :\", d)"
      ],
      "metadata": {
        "colab": {
          "base_uri": "https://localhost:8080/"
        },
        "id": "CaT_umsNwEf8",
        "outputId": "bbbf843a-00ae-405a-e6ab-00f974d79948"
      },
      "execution_count": 17,
      "outputs": [
        {
          "output_type": "stream",
          "name": "stdout",
          "text": [
            " 바꿀돈은?  10123\n",
            "bill : 10123 \n",
            " c500 : 20 \n",
            " c100 : 1 \n",
            " c50 : 0 \n",
            " c10 : 2 \n",
            " 나머지 : 3\n"
          ]
        }
      ]
    },
    {
      "cell_type": "code",
      "source": [
        "bill, c500, c100, c50, c10 = 0,0,0,0,0\n",
        "bill = int(input(\" 바꿀돈은?  \"))\n",
        "\n",
        "c500 = bill // 500\n",
        "bill %= 500\n",
        "c100 = bill // 100\n",
        "bill %= 100\n",
        "c50 = bill // 50\n",
        "bill %= 50\n",
        "c10 = bill // 10\n",
        "bill %= 10\n",
        "\n",
        "print(\"500원짜리 : %d개\" % c500)\n",
        "print(\"100원짜리 : %d개\" % c100)\n",
        "print(\"50원짜리 : %d개\" % c50)\n",
        "print(\"10원짜리 : %d개\" % c10)\n",
        "print(\"잔돈 : %d원\" % bill)\n"
      ],
      "metadata": {
        "colab": {
          "base_uri": "https://localhost:8080/"
        },
        "id": "Bz4BuRtRy9Vd",
        "outputId": "87cc5267-479e-41f6-d21a-29298d74cc30"
      },
      "execution_count": 15,
      "outputs": [
        {
          "output_type": "stream",
          "name": "stdout",
          "text": [
            " 바꿀돈은?  10123\n",
            "500원짜리 : 20개\n",
            "100원짜리 : 1개\n",
            "50원짜리 : 0개\n",
            "10원짜리 : 2개\n",
            "잔돈 : 3원\n"
          ]
        }
      ]
    },
    {
      "cell_type": "markdown",
      "source": [
        "## 조건문"
      ],
      "metadata": {
        "id": "hyHSJxgP1DW6"
      }
    },
    {
      "cell_type": "code",
      "source": [
        "a = 200\n",
        "if(a<100): # :필수 else 뒤에도 필수\n",
        "  print(\"100보다 작음\")\n",
        "  print(\"거짓이면 이문장은 보이지 않음\")\n",
        "print(\"프로그램 끝\") #뒤로 붙여야 실행됨"
      ],
      "metadata": {
        "colab": {
          "base_uri": "https://localhost:8080/"
        },
        "id": "ZS3Bt9_Q1FvJ",
        "outputId": "2a389a2f-a752-4a8a-9fca-257bbede13a0"
      },
      "execution_count": 18,
      "outputs": [
        {
          "output_type": "stream",
          "name": "stdout",
          "text": [
            "프로그램 끝\n"
          ]
        }
      ]
    },
    {
      "cell_type": "code",
      "source": [
        "a = 200\n",
        "if(a<100):\n",
        "  print(\"100보다 작음\")\n",
        "else :\n",
        "  print(\"100보다 크다\")\n",
        "print(\"프로그램 끝\")"
      ],
      "metadata": {
        "colab": {
          "base_uri": "https://localhost:8080/"
        },
        "id": "bKzkg5_Y1sPc",
        "outputId": "326e3dcb-96c8-40d7-f3b5-432b243d3a45"
      },
      "execution_count": 20,
      "outputs": [
        {
          "output_type": "stream",
          "name": "stdout",
          "text": [
            "100보다 크다\n",
            "프로그램 끝\n"
          ]
        }
      ]
    },
    {
      "cell_type": "code",
      "source": [
        "a = int(input(\"정수를 입력하세요 : \"))\n",
        "if(a%2==0):\n",
        "  print(\"짝수\")\n",
        "else : \n",
        "  print(\"홀수\")"
      ],
      "metadata": {
        "colab": {
          "base_uri": "https://localhost:8080/"
        },
        "id": "BS7u_o3h2GmG",
        "outputId": "6a38c510-8f3d-47c2-c434-048478821775"
      },
      "execution_count": 24,
      "outputs": [
        {
          "output_type": "stream",
          "name": "stdout",
          "text": [
            "정수를 입력하세요 : 32\n",
            "짝수\n"
          ]
        }
      ]
    },
    {
      "cell_type": "code",
      "source": [
        "a = int(input(\"정수를 입력하세요 : \"))\n",
        "if(a > 50):\n",
        "  if(a<100):\n",
        "    print(\"50<a<100\")\n",
        "  else:\n",
        "    print(\"a>100\")\n",
        "else:\n",
        "  print(\"a<50\")"
      ],
      "metadata": {
        "colab": {
          "base_uri": "https://localhost:8080/"
        },
        "id": "_CYJGhL024Ju",
        "outputId": "7f88b83e-b40a-4a65-bb41-68f8954be126"
      },
      "execution_count": 29,
      "outputs": [
        {
          "output_type": "stream",
          "name": "stdout",
          "text": [
            "정수를 입력하세요 : 4\n",
            "a<50\n"
          ]
        }
      ]
    },
    {
      "cell_type": "code",
      "source": [
        "fruit = ['사과', '배', '감', '포도']\n",
        "fruit .append('딸기')\n",
        "if '딸기' not in fruit :\n",
        "  print(\"딸기가 없습니다.\")\n",
        "else:\n",
        "  print(\"딸기가 있습니다.\")\n",
        "print(fruit)"
      ],
      "metadata": {
        "colab": {
          "base_uri": "https://localhost:8080/"
        },
        "id": "0USf0pgp7VRv",
        "outputId": "e05f7b3a-bd20-4173-ee45-e1dc433d053e"
      },
      "execution_count": 34,
      "outputs": [
        {
          "output_type": "stream",
          "name": "stdout",
          "text": [
            "딸기가 있습니다.\n",
            "['사과', '배', '감', '포도', '딸기']\n"
          ]
        }
      ]
    },
    {
      "cell_type": "code",
      "source": [
        "import random\n",
        "\n",
        "number = []\n",
        "for num in range(0,7):\n",
        "  number .append(random.randrange(1,46))\n",
        "print(\"생성된 리스트\", number)"
      ],
      "metadata": {
        "colab": {
          "base_uri": "https://localhost:8080/"
        },
        "id": "AjcxGFOL83Nb",
        "outputId": "0c78c8cc-ae1d-4d76-a089-8dc4449b074a"
      },
      "execution_count": 39,
      "outputs": [
        {
          "output_type": "stream",
          "name": "stdout",
          "text": [
            "생성된 리스트 [19, 45, 10, 1, 39, 34, 2]\n"
          ]
        }
      ]
    },
    {
      "cell_type": "markdown",
      "source": [
        "### 반복문"
      ],
      "metadata": {
        "id": "MsAEbXqM-V4F"
      }
    },
    {
      "cell_type": "code",
      "source": [
        "for i in range(0,3,1): # range안에 시작값, 끝값+1, 증가값 (0부터 3까지 1씩 증가)\n",
        "  print(\"%d 안녕하세요\" % i) # 반복 내용\n",
        "  print(i)\n",
        "print(\"프로그램 종료^^*\")"
      ],
      "metadata": {
        "colab": {
          "base_uri": "https://localhost:8080/"
        },
        "id": "TfpqZQTg-YuQ",
        "outputId": "f60f4434-1a72-46dc-b077-65eea71462e9"
      },
      "execution_count": 45,
      "outputs": [
        {
          "output_type": "stream",
          "name": "stdout",
          "text": [
            "0 안녕하세요\n",
            "0\n",
            "1 안녕하세요\n",
            "1\n",
            "2 안녕하세요\n",
            "2\n",
            "프로그램 종료^^*\n"
          ]
        }
      ]
    },
    {
      "cell_type": "code",
      "source": [
        "for i in range(1,9,1):\n",
        "  print(\"%d\" % i, end=\" \") # 각 글자마다 더 넣음\n",
        "print(\"\")\n",
        "for i in range(1,9,1):\n",
        "  print(\"%d\" % i, end=\",\")"
      ],
      "metadata": {
        "colab": {
          "base_uri": "https://localhost:8080/"
        },
        "id": "6mAftHJh_wDn",
        "outputId": "b0876e6d-24c2-45de-f894-1bf2570f5230"
      },
      "execution_count": 50,
      "outputs": [
        {
          "output_type": "stream",
          "name": "stdout",
          "text": [
            "1 2 3 4 5 6 7 8 \n",
            "1,2,3,4,5,6,7,8,"
          ]
        }
      ]
    },
    {
      "cell_type": "code",
      "source": [
        "sum=0 # 변수 잡아줘야함\n",
        "for i in range(1,11,1):\n",
        "  sum = sum + i\n",
        "print(\"1~10까지 합계 :  %d \" % sum )"
      ],
      "metadata": {
        "colab": {
          "base_uri": "https://localhost:8080/"
        },
        "id": "GbVeUCEiA0u6",
        "outputId": "b01706b6-2642-42e0-8836-8c5e7c5a3379"
      },
      "execution_count": 55,
      "outputs": [
        {
          "output_type": "stream",
          "name": "stdout",
          "text": [
            "1~10까지 합계 :  55 \n"
          ]
        }
      ]
    },
    {
      "cell_type": "markdown",
      "source": [
        "#### Qui3 : 숫자 입력을 받아 1부터 입력된 숫자까지의 합을 출력하시오."
      ],
      "metadata": {
        "id": "lNdeGWDgBqje"
      }
    },
    {
      "cell_type": "code",
      "source": [
        "sum,num=0,0\n",
        "num = int(input(\"정수를 입력하세요 : \"))\n",
        "for i in range(1,num+1,1):\n",
        "  sum = sum + i\n",
        "print(\"1~n까지 합계 :  %d \" % sum)"
      ],
      "metadata": {
        "colab": {
          "base_uri": "https://localhost:8080/"
        },
        "id": "mwxP0ZD4BtYd",
        "outputId": "62e82f46-be0c-4618-8af7-a77b00172c78"
      },
      "execution_count": 61,
      "outputs": [
        {
          "output_type": "stream",
          "name": "stdout",
          "text": [
            "정수를 입력하세요 : 10\n",
            "1~n까지 합계 :  55 \n"
          ]
        }
      ]
    },
    {
      "cell_type": "markdown",
      "source": [
        "### 중첩 for문"
      ],
      "metadata": {
        "id": "Ab0vYkO7DqFq"
      }
    },
    {
      "cell_type": "code",
      "source": [
        "i,j,k=0,0,0\n",
        "k = int(input(\"구구단 단수 입력 : \"))\n",
        "for i in range(1,10,1):\n",
        "  print(\"%d X %d = %2d\" % (k,i,k*i))\n",
        "  print(\"\")"
      ],
      "metadata": {
        "colab": {
          "base_uri": "https://localhost:8080/"
        },
        "id": "yh33CFP8DfUK",
        "outputId": "97b9c33f-255f-48a4-eb7f-ebc67cad4a89"
      },
      "execution_count": 65,
      "outputs": [
        {
          "output_type": "stream",
          "name": "stdout",
          "text": [
            "구구단 단수 입력 : 2\n",
            "2 X 1 =  2\n",
            "\n",
            "2 X 2 =  4\n",
            "\n",
            "2 X 3 =  6\n",
            "\n",
            "2 X 4 =  8\n",
            "\n",
            "2 X 5 = 10\n",
            "\n",
            "2 X 6 = 12\n",
            "\n",
            "2 X 7 = 14\n",
            "\n",
            "2 X 8 = 16\n",
            "\n",
            "2 X 9 = 18\n",
            "\n"
          ]
        }
      ]
    },
    {
      "cell_type": "code",
      "source": [
        "i,j=0,0\n",
        "for i in range(1,10,1):\n",
        "  for j in range(2,6,1):\n",
        "    print(\"%d X %d = %2d\" % (j,i,i*j),end='\\t')\n",
        "  print(\"\")\n",
        "print()\n",
        "h,k=0,0\n",
        "for h in range(1,10,1):\n",
        "  for k in range(6,10,1):\n",
        "    print(\"%d X %d = %2d\" % (h,k,h*k),end='\\t')\n",
        "  print(\"\")"
      ],
      "metadata": {
        "colab": {
          "base_uri": "https://localhost:8080/"
        },
        "id": "GRFVJuLDFbDm",
        "outputId": "99d4b594-b31e-47c8-be38-397784ba1bd6"
      },
      "execution_count": 105,
      "outputs": [
        {
          "output_type": "stream",
          "name": "stdout",
          "text": [
            "2 X 1 =  2\t3 X 1 =  3\t4 X 1 =  4\t5 X 1 =  5\t\n",
            "2 X 2 =  4\t3 X 2 =  6\t4 X 2 =  8\t5 X 2 = 10\t\n",
            "2 X 3 =  6\t3 X 3 =  9\t4 X 3 = 12\t5 X 3 = 15\t\n",
            "2 X 4 =  8\t3 X 4 = 12\t4 X 4 = 16\t5 X 4 = 20\t\n",
            "2 X 5 = 10\t3 X 5 = 15\t4 X 5 = 20\t5 X 5 = 25\t\n",
            "2 X 6 = 12\t3 X 6 = 18\t4 X 6 = 24\t5 X 6 = 30\t\n",
            "2 X 7 = 14\t3 X 7 = 21\t4 X 7 = 28\t5 X 7 = 35\t\n",
            "2 X 8 = 16\t3 X 8 = 24\t4 X 8 = 32\t5 X 8 = 40\t\n",
            "2 X 9 = 18\t3 X 9 = 27\t4 X 9 = 36\t5 X 9 = 45\t\n",
            "\n",
            "1 X 6 =  6\t1 X 7 =  7\t1 X 8 =  8\t1 X 9 =  9\t\n",
            "2 X 6 = 12\t2 X 7 = 14\t2 X 8 = 16\t2 X 9 = 18\t\n",
            "3 X 6 = 18\t3 X 7 = 21\t3 X 8 = 24\t3 X 9 = 27\t\n",
            "4 X 6 = 24\t4 X 7 = 28\t4 X 8 = 32\t4 X 9 = 36\t\n",
            "5 X 6 = 30\t5 X 7 = 35\t5 X 8 = 40\t5 X 9 = 45\t\n",
            "6 X 6 = 36\t6 X 7 = 42\t6 X 8 = 48\t6 X 9 = 54\t\n",
            "7 X 6 = 42\t7 X 7 = 49\t7 X 8 = 56\t7 X 9 = 63\t\n",
            "8 X 6 = 48\t8 X 7 = 56\t8 X 8 = 64\t8 X 9 = 72\t\n",
            "9 X 6 = 54\t9 X 7 = 63\t9 X 8 = 72\t9 X 9 = 81\t\n"
          ]
        }
      ]
    }
  ]
}