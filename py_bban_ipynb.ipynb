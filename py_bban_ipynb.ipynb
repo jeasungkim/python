{
  "nbformat": 4,
  "nbformat_minor": 0,
  "metadata": {
    "colab": {
      "provenance": [],
      "authorship_tag": "ABX9TyOEK2170nMZeEkOiqpp4oaX",
      "include_colab_link": true
    },
    "kernelspec": {
      "name": "python3",
      "display_name": "Python 3"
    },
    "language_info": {
      "name": "python"
    }
  },
  "cells": [
    {
      "cell_type": "markdown",
      "metadata": {
        "id": "view-in-github",
        "colab_type": "text"
      },
      "source": [
        "<a href=\"https://colab.research.google.com/github/jeasungkim/python/blob/main/py_bban_ipynb.ipynb\" target=\"_parent\"><img src=\"https://colab.research.google.com/assets/colab-badge.svg\" alt=\"Open In Colab\"/></a>"
      ]
    },
    {
      "cell_type": "markdown",
      "source": [],
      "metadata": {
        "id": "HyuRQGp2nFRx"
      }
    },
    {
      "cell_type": "markdown",
      "source": [
        "# CH1 **파이썬 문법**"
      ],
      "metadata": {
        "id": "_huiFOBnh1TY"
      }
    },
    {
      "cell_type": "markdown",
      "source": [
        "## 자료형\n",
        "#### 숫자형\n",
        "* 정수 : 123,-20, 0  \n",
        "* 실수 : 123.45, -4321.5, 6.08e9  \n",
        "* 8잔수 : 0o456, 0o123 \\\n",
        "* 16진수 : 0xFF, 0x0D, 0x0A"
      ],
      "metadata": {
        "id": "GQhtnyTyiaeS"
      }
    },
    {
      "cell_type": "markdown",
      "source": [
        "#### 변수\n",
        "* 문자 또는 밑줄로 시작(beta,_kim)\n",
        "* 대소문자를 구분한다.(sum, Sum SUM)\n",
        "* 영문자, 숫자, 밑줄(A~z,0~9,_)\n",
        "* 파이썬 키워드는 사용 불가"
      ],
      "metadata": {
        "id": "cQVBkWccoUQe"
      }
    },
    {
      "cell_type": "code",
      "source": [
        "a = 10\n",
        "b = 20\n",
        "c = a + b\n",
        "print(c)"
      ],
      "metadata": {
        "colab": {
          "base_uri": "https://localhost:8080/"
        },
        "id": "e67glPpLjgi7",
        "outputId": "cdb3a8fc-6d80-4f28-8609-82c75d6cb083"
      },
      "execution_count": null,
      "outputs": [
        {
          "output_type": "stream",
          "name": "stdout",
          "text": [
            "30\n"
          ]
        }
      ]
    },
    {
      "cell_type": "code",
      "source": [
        "a = 10\n",
        "b = 2\n",
        "c = a/b #나눗셈\n",
        "d = a-b\n",
        "e = a*b\n",
        "f = a//b # 몪\n",
        "g = a%b #나머지\n",
        "h = a**b #제곱\n",
        "print(c,d,e,f,g,h)\n",
        "# 시험 나옴"
      ],
      "metadata": {
        "colab": {
          "base_uri": "https://localhost:8080/"
        },
        "id": "gVZ8U50PktYq",
        "outputId": "e6aa05bc-3d63-427d-f625-514b7fd67f98"
      },
      "execution_count": null,
      "outputs": [
        {
          "output_type": "stream",
          "name": "stdout",
          "text": [
            "5.0 8 20 5 0 100\n"
          ]
        }
      ]
    },
    {
      "cell_type": "markdown",
      "source": [
        "#### 문자열\n",
        "1. 큰 따옴표 : \"Hello World! it\\'s\"\n",
        "2. 작은 따옴표 : '대한민국'\n",
        "3. 큰따옴표 3 : \"\"\"hello!\"\"\"\n",
        "4. 작은 따옴표 3 :'''Life is too short. You need pyhton.'''"
      ],
      "metadata": {
        "id": "cTFjaL74nIQ4"
      }
    },
    {
      "cell_type": "code",
      "source": [
        "myName = \"jeasung Kim\" # 중간에 대문자 낙타표기법 (카멜)\n",
        "my_name = \"김재성\" # 언더바 스네이크표기법\n",
        "_my_name = \"korea\"\n",
        "MYNAME = \"God is love\" # 앞에대문자 파스칼표기법\n",
        "my2name = \"12345\"\n",
        "# 2myname = \"123\"  my-name = \"231\" my name = \"231\" 안됨 시험출제\n",
        "myStr = '123' #글자 stf\n",
        "myNum = 123 # int\n",
        "\n",
        "print(myStr, myNum)\n",
        "print(type(myStr))\n",
        "print(type(myNum))"
      ],
      "metadata": {
        "id": "V2O5MoRhoFx8",
        "colab": {
          "base_uri": "https://localhost:8080/"
        },
        "outputId": "812eb750-a956-40a6-c8b9-07bf8ef0fed5"
      },
      "execution_count": null,
      "outputs": [
        {
          "output_type": "stream",
          "name": "stdout",
          "text": [
            "123 123\n",
            "<class 'str'>\n",
            "<class 'int'>\n"
          ]
        }
      ]
    },
    {
      "cell_type": "markdown",
      "source": [
        "#### 여러개 변수 할당"
      ],
      "metadata": {
        "id": "iZkUC7u7v7io"
      }
    },
    {
      "cell_type": "code",
      "source": [
        "x,y,z = \"포도\", \"딸기\", \"수박\"\n",
        "print(x)\n",
        "print(y)\n",
        "print(z)"
      ],
      "metadata": {
        "colab": {
          "base_uri": "https://localhost:8080/"
        },
        "id": "4tNz0Uh9wCrL",
        "outputId": "c88423a1-1d5e-44cc-bd9c-4a45e6554a75"
      },
      "execution_count": null,
      "outputs": [
        {
          "output_type": "stream",
          "name": "stdout",
          "text": [
            "포도\n",
            "딸기\n",
            "수박\n"
          ]
        }
      ]
    },
    {
      "cell_type": "code",
      "source": [
        "a = b = c = \"오렌지\"\n",
        "print(a)\n",
        "print(b)\n",
        "print(c)"
      ],
      "metadata": {
        "colab": {
          "base_uri": "https://localhost:8080/"
        },
        "id": "6YVBqpEswcVS",
        "outputId": "b31a9f4e-1bdf-4dc1-c658-ab6841afc035"
      },
      "execution_count": null,
      "outputs": [
        {
          "output_type": "stream",
          "name": "stdout",
          "text": [
            "오렌지\n",
            "오렌지\n",
            "오렌지\n"
          ]
        }
      ]
    },
    {
      "cell_type": "code",
      "source": [
        "fruits = [\"포도\", \"딸기\", \"수박\"]\n",
        "x,y,z = fruits\n",
        "print(x)\n",
        "print(y)\n",
        "print(z)"
      ],
      "metadata": {
        "colab": {
          "base_uri": "https://localhost:8080/"
        },
        "id": "Q5ZDcbH9wx-F",
        "outputId": "8e0051ab-46a3-4573-d43f-c20e685c6f30"
      },
      "execution_count": null,
      "outputs": [
        {
          "output_type": "stream",
          "name": "stdout",
          "text": [
            "포도\n",
            "딸기\n",
            "수박\n"
          ]
        }
      ]
    },
    {
      "cell_type": "code",
      "source": [
        "x = \"Life\"\n",
        "y = \"is\"\n",
        "z = \"beautiful\"\n",
        "print(x,y,z) # ,는 띄어쓰기\n",
        "print(x+y+z)"
      ],
      "metadata": {
        "colab": {
          "base_uri": "https://localhost:8080/"
        },
        "id": "rAe-9GIwxkve",
        "outputId": "34a3cfb2-05cb-4099-cc87-6f5a522a5842"
      },
      "execution_count": null,
      "outputs": [
        {
          "output_type": "stream",
          "name": "stdout",
          "text": [
            "Life is beautiful\n",
            "Lifeisbeautiful\n"
          ]
        }
      ]
    },
    {
      "cell_type": "code",
      "source": [
        "a = 1\n",
        "b = 2\n",
        "c = 3\n",
        "print(a,b,c)\n",
        "print(a+b+c)\n"
      ],
      "metadata": {
        "colab": {
          "base_uri": "https://localhost:8080/"
        },
        "id": "JzVSA_K_yNiS",
        "outputId": "e78c979b-e581-46cd-f2d9-398693a4e8a5"
      },
      "execution_count": null,
      "outputs": [
        {
          "output_type": "stream",
          "name": "stdout",
          "text": [
            "1 2 3\n",
            "6\n"
          ]
        }
      ]
    },
    {
      "cell_type": "markdown",
      "source": [
        "#### 데이터 유형 \n",
        "+ 텍스트\n",
        "+ 숫자\n",
        "+ 불(bool)"
      ],
      "metadata": {
        "id": "wvqTTmzZyo3h"
      }
    },
    {
      "cell_type": "code",
      "source": [
        "a = 100\n",
        "b = 200\n",
        "good = a + b\n",
        "print(a, '+', b, '=', good)\n",
        "good = a - b\n",
        "print(a, '-', b, '=', good)\n",
        "good = a * b\n",
        "print(a, '*', b, '=', good)\n",
        "good = a / b\n",
        "print(a, '/', b, '=', good)\n",
        "\n"
      ],
      "metadata": {
        "colab": {
          "base_uri": "https://localhost:8080/"
        },
        "id": "0teqi9QfzMVw",
        "outputId": "29785f64-38a7-4f08-ad43-f1781b72e521"
      },
      "execution_count": null,
      "outputs": [
        {
          "output_type": "stream",
          "name": "stdout",
          "text": [
            "100 + 200 = 300\n",
            "100 - 200 = -100\n",
            "100 * 200 = 20000\n",
            "100 / 200 = 0.5\n"
          ]
        }
      ]
    },
    {
      "cell_type": "markdown",
      "source": [
        "#### input() 함수 이용 계산기"
      ],
      "metadata": {
        "id": "aEMqqZTkAWfX"
      }
    },
    {
      "cell_type": "code",
      "source": [
        "a = int(input(\"첫번째 숫자를 입력해 주세요 :\"))\n",
        "b = int(input(\"두번째 숫자를 입력해 주세요 :\"))\n",
        "result = a + b\n",
        "print(a, '+', b, '=', result)\n",
        "result = a - b\n",
        "print(a, '-', b, '=', result)\n",
        "result = a * b\n",
        "print(a, '*', b, '=', result)\n",
        "result = a / b\n",
        "print(a, '/', b, '=', result)\n",
        "result = a ** b\n",
        "print(a, '**', b, '=', result)\n",
        "result = a // b\n",
        "print(a, '//', b, '=', result)\n",
        "result = a % b\n",
        "print(a, '%', b, '=', result)"
      ],
      "metadata": {
        "colab": {
          "base_uri": "https://localhost:8080/"
        },
        "id": "ood0I4XpAisk",
        "outputId": "b8f07792-a1e3-4b17-80ee-a88ca4d433df"
      },
      "execution_count": null,
      "outputs": [
        {
          "output_type": "stream",
          "name": "stdout",
          "text": [
            "첫번째 숫자를 입력해 주세요 :9\n",
            "두번째 숫자를 입력해 주세요 :4\n",
            "9 + 4 = 13\n",
            "9 - 4 = 5\n",
            "9 * 4 = 36\n",
            "9 / 4 = 2.25\n",
            "9 ** 4 = 6561\n",
            "9 // 4 = 2\n",
            "9 % 4 = 1\n"
          ]
        }
      ]
    },
    {
      "cell_type": "code",
      "source": [
        "num1 = input(\"숫자입력1 : \")\n",
        "num2 = input(\"숫자입력2 : \")\n",
        "result = num1 + num2\n",
        "print(type(num1))\n",
        "print(num1, '+', num2, '=', result)"
      ],
      "metadata": {
        "colab": {
          "base_uri": "https://localhost:8080/"
        },
        "id": "xiEOvyyeDYen",
        "outputId": "87356e1f-65eb-4469-c7e3-1a974d1c809e"
      },
      "execution_count": null,
      "outputs": [
        {
          "output_type": "stream",
          "name": "stdout",
          "text": [
            "숫자입력1 : 1\n",
            "숫자입력2 : 2\n",
            "<class 'str'>\n",
            "1 + 2 = 12\n"
          ]
        }
      ]
    },
    {
      "cell_type": "markdown",
      "source": [
        "quiz 전화번호, 이름, 무게를 입력받아 출력 :\n",
        "입력한 내용은 이름 \"oo\", 전화번호 \"oo\"입니다.\n",
        "무게는 입력한 g수 x 10원 = 산출금액 출력"
      ],
      "metadata": {
        "id": "nKDhZ2NeEZc0"
      }
    },
    {
      "cell_type": "code",
      "source": [
        "num1 = input(\"전화번호 : \")\n",
        "num2 = input(\"이름 : \")\n",
        "num3 = int(input(\"무게 : \"))\n",
        "a = 10\n",
        "result = num3 * 10\n",
        "print(\"입력한 내용은 이름 : \", num2,\"입니다.\")\n",
        "print(\"전화번호 : \", num1 , \"입니다.\")\n",
        "print(\"무게는 \",num3, \"* 10 =\", result , \"입니다.\")"
      ],
      "metadata": {
        "colab": {
          "base_uri": "https://localhost:8080/"
        },
        "id": "gfQxXbxJFUrI",
        "outputId": "2ef20600-5599-4ae5-aadd-c3d00b5f3448"
      },
      "execution_count": null,
      "outputs": [
        {
          "output_type": "stream",
          "name": "stdout",
          "text": [
            "전화번호 : 01029851582\n",
            "이름 : 김재성\n",
            "무게 : 30\n",
            "입력한 내용은 이름 :  김재성 입니다.\n",
            "전화번호 :  01029851582 입니다.\n",
            "무게는  30 * 10 = 300 입니다.\n"
          ]
        }
      ]
    },
    {
      "cell_type": "markdown",
      "source": [
        "# 2Week"
      ],
      "metadata": {
        "id": "NQPHVkuQiFmg"
      }
    },
    {
      "cell_type": "markdown",
      "source": [
        "# print() 서식 출력"
      ],
      "metadata": {
        "id": "CCIQCWs4igzv"
      }
    },
    {
      "cell_type": "code",
      "source": [
        "print(\"%d\" % 123)\n",
        "print(\"%5d\" % 123)\n",
        "print(\"%05d\" % 123)\n",
        "\n",
        "print(\"%f\" % 123.45)\n",
        "print(\"%7.1f\" % 123.45)\n",
        "print(\"%7.3f\" % 123.45)\n",
        "\n",
        "print(\"%s\" % \"대한민국\")\n",
        "print(\"%6s\" % \"대한민국\")"
      ],
      "metadata": {
        "colab": {
          "base_uri": "https://localhost:8080/"
        },
        "id": "UUdUrG_rilqX",
        "outputId": "d08f5bea-dfb3-412b-8a19-7e1a7b0171f8"
      },
      "execution_count": null,
      "outputs": [
        {
          "output_type": "stream",
          "name": "stdout",
          "text": [
            "123\n",
            "  123\n",
            "00123\n",
            "123.450000\n",
            "  123.5\n",
            "123.450\n",
            "대한민국\n",
            "  대한민국\n"
          ]
        }
      ]
    },
    {
      "cell_type": "markdown",
      "source": [
        "#### Format 함수 : 순서 지정 가능"
      ],
      "metadata": {
        "id": "C9ws2kgPkoQt"
      }
    },
    {
      "cell_type": "code",
      "source": [
        "print(\"{0:d} {1:5d} {2:05d}\" .format(123,456,789))"
      ],
      "metadata": {
        "colab": {
          "base_uri": "https://localhost:8080/"
        },
        "id": "IgRSSPPsj-OP",
        "outputId": "2fa48854-c080-4c5b-8619-4a1898a8e2a3"
      },
      "execution_count": null,
      "outputs": [
        {
          "output_type": "stream",
          "name": "stdout",
          "text": [
            "123   456 00789\n"
          ]
        }
      ]
    },
    {
      "cell_type": "markdown",
      "source": [
        "### 서식 출력"
      ],
      "metadata": {
        "id": "o8yWqkYSk70K"
      }
    },
    {
      "cell_type": "code",
      "source": [
        "print(\"\\n줄바꿈\\n연습입니다.\")"
      ],
      "metadata": {
        "colab": {
          "base_uri": "https://localhost:8080/"
        },
        "id": "zVdMKiXllEg6",
        "outputId": "df14290c-b5ae-492e-e0a6-f2ee152081cb"
      },
      "execution_count": null,
      "outputs": [
        {
          "output_type": "stream",
          "name": "stdout",
          "text": [
            "\n",
            "줄바꿈\n",
            "연습입니다.\n"
          ]
        }
      ]
    },
    {
      "cell_type": "code",
      "source": [
        "print(\"\\t탭키\\t연습\")"
      ],
      "metadata": {
        "colab": {
          "base_uri": "https://localhost:8080/"
        },
        "id": "C_-NyonNlSBT",
        "outputId": "7d639008-a613-4bbf-964a-257026c5c5e4"
      },
      "execution_count": null,
      "outputs": [
        {
          "output_type": "stream",
          "name": "stdout",
          "text": [
            "\t탭키\t연습\n"
          ]
        }
      ]
    },
    {
      "cell_type": "code",
      "source": [
        "print(\"글자가 \\\"강조\\\"되는 효과1\") #\\다음\", ' 을 넣어서 출력이 가능\n",
        "print(\"글자가 \\'강조\\'되는 효과1\")\n",
        "print(\"역슬래시 3개 출력 \\\\\\\\\\\\\") #\\다음 \\를 넣음으로서 3개\n",
        "print(r\"\\n \\t \\\" \\\\ \\'를 그대로 출력\") #그대로 출력함"
      ],
      "metadata": {
        "colab": {
          "base_uri": "https://localhost:8080/"
        },
        "id": "J4tElm3qlesk",
        "outputId": "d1ff640d-0af0-47af-f9f0-c24452f7772c"
      },
      "execution_count": null,
      "outputs": [
        {
          "output_type": "stream",
          "name": "stdout",
          "text": [
            "글자가 \"강조\"되는 효과1\n",
            "글자가 '강조'되는 효과1\n",
            "역슬래시 3개 출력 \\\\\\\n",
            "\\n \\t \\\" \\\\ \\'를 그대로 출력\n"
          ]
        }
      ]
    },
    {
      "cell_type": "markdown",
      "source": [
        "#### 관계 연산자"
      ],
      "metadata": {
        "id": "ZD_y0MPyoiZg"
      }
    },
    {
      "cell_type": "code",
      "source": [
        "a,b = 10, 20\n",
        "print(a==b, a!=b, a>b, a<b, a>=b, a<=b)"
      ],
      "metadata": {
        "colab": {
          "base_uri": "https://localhost:8080/"
        },
        "id": "rIoW-XGZonCe",
        "outputId": "57f72d92-a13f-4891-9feb-657da4ffe70b"
      },
      "execution_count": null,
      "outputs": [
        {
          "output_type": "stream",
          "name": "stdout",
          "text": [
            "False True False True False True\n"
          ]
        }
      ]
    },
    {
      "cell_type": "markdown",
      "source": [
        "#### 논리 연산자"
      ],
      "metadata": {
        "id": "keDteZBCo-Vc"
      }
    },
    {
      "cell_type": "code",
      "source": [
        "a = 99\n",
        "print((a>100) and (a<200))\n",
        "print((a>100) or (a<200))\n",
        "print(not(a==100))"
      ],
      "metadata": {
        "colab": {
          "base_uri": "https://localhost:8080/"
        },
        "id": "KBDjjk3HpEHo",
        "outputId": "e8da5138-7df1-4c55-b746-ca715c357e72"
      },
      "execution_count": null,
      "outputs": [
        {
          "output_type": "stream",
          "name": "stdout",
          "text": [
            "False\n",
            "True\n",
            "True\n"
          ]
        }
      ]
    },
    {
      "cell_type": "code",
      "source": [
        "if(123): #if구문 뒤엔 :\n",
        "  print(\"참이면 보입니다.\")\n",
        "if(0):\n",
        "  print(\"거짓이면 안보입니다.\")"
      ],
      "metadata": {
        "colab": {
          "base_uri": "https://localhost:8080/"
        },
        "id": "Vh9b_2POpgNw",
        "outputId": "e9a30801-5044-46f8-81fa-15aff4c5d847"
      },
      "execution_count": null,
      "outputs": [
        {
          "output_type": "stream",
          "name": "stdout",
          "text": [
            "참이면 보입니다.\n"
          ]
        }
      ]
    },
    {
      "cell_type": "markdown",
      "source": [
        "### 퀴즈2 숫자 입력을 받아 동전으로 바꿔주는 프로그램( 500원, 100원, 50원, 10원)"
      ],
      "metadata": {
        "id": "c4S2NlaFvpAe"
      }
    },
    {
      "cell_type": "code",
      "source": [
        "bill = int(input(\" 바꿀돈은?  \"))\n",
        "c500 = bill // 500\n",
        "a = bill % 500\n",
        "c100 = a // 100\n",
        "b = a % 100\n",
        "c50 = b // 50\n",
        "c = b % 50\n",
        "c10 = c // 10\n",
        "d = c % 10\n",
        "print(\"bill :\", bill, \"\\n c500 :\", c500, \"\\n c100 :\", c100, \"\\n c50 :\", c50, \"\\n c10 :\", c10, \"\\n 나머지 :\", d)"
      ],
      "metadata": {
        "colab": {
          "base_uri": "https://localhost:8080/"
        },
        "id": "CaT_umsNwEf8",
        "outputId": "bbbf843a-00ae-405a-e6ab-00f974d79948"
      },
      "execution_count": null,
      "outputs": [
        {
          "output_type": "stream",
          "name": "stdout",
          "text": [
            " 바꿀돈은?  10123\n",
            "bill : 10123 \n",
            " c500 : 20 \n",
            " c100 : 1 \n",
            " c50 : 0 \n",
            " c10 : 2 \n",
            " 나머지 : 3\n"
          ]
        }
      ]
    },
    {
      "cell_type": "code",
      "source": [
        "bill, c500, c100, c50, c10 = 0,0,0,0,0\n",
        "bill = int(input(\" 바꿀돈은?  \"))\n",
        "\n",
        "c500 = bill // 500\n",
        "bill %= 500\n",
        "c100 = bill // 100\n",
        "bill %= 100\n",
        "c50 = bill // 50\n",
        "bill %= 50\n",
        "c10 = bill // 10\n",
        "bill %= 10\n",
        "\n",
        "print(\"500원짜리 : %d개\" % c500)\n",
        "print(\"100원짜리 : %d개\" % c100)\n",
        "print(\"50원짜리 : %d개\" % c50)\n",
        "print(\"10원짜리 : %d개\" % c10)\n",
        "print(\"잔돈 : %d원\" % bill)\n"
      ],
      "metadata": {
        "colab": {
          "base_uri": "https://localhost:8080/"
        },
        "id": "Bz4BuRtRy9Vd",
        "outputId": "87cc5267-479e-41f6-d21a-29298d74cc30"
      },
      "execution_count": null,
      "outputs": [
        {
          "output_type": "stream",
          "name": "stdout",
          "text": [
            " 바꿀돈은?  10123\n",
            "500원짜리 : 20개\n",
            "100원짜리 : 1개\n",
            "50원짜리 : 0개\n",
            "10원짜리 : 2개\n",
            "잔돈 : 3원\n"
          ]
        }
      ]
    },
    {
      "cell_type": "markdown",
      "source": [
        "## 조건문"
      ],
      "metadata": {
        "id": "hyHSJxgP1DW6"
      }
    },
    {
      "cell_type": "code",
      "source": [
        "a = 200\n",
        "if(a<100): # :필수 else 뒤에도 필수\n",
        "  print(\"100보다 작음\")\n",
        "  print(\"거짓이면 이문장은 보이지 않음\")\n",
        "print(\"프로그램 끝\") #뒤로 붙여야 실행됨"
      ],
      "metadata": {
        "colab": {
          "base_uri": "https://localhost:8080/"
        },
        "id": "ZS3Bt9_Q1FvJ",
        "outputId": "2a389a2f-a752-4a8a-9fca-257bbede13a0"
      },
      "execution_count": null,
      "outputs": [
        {
          "output_type": "stream",
          "name": "stdout",
          "text": [
            "프로그램 끝\n"
          ]
        }
      ]
    },
    {
      "cell_type": "code",
      "source": [
        "a = 200\n",
        "if(a<100):\n",
        "  print(\"100보다 작음\")\n",
        "else :\n",
        "  print(\"100보다 크다\")\n",
        "print(\"프로그램 끝\")"
      ],
      "metadata": {
        "colab": {
          "base_uri": "https://localhost:8080/"
        },
        "id": "bKzkg5_Y1sPc",
        "outputId": "326e3dcb-96c8-40d7-f3b5-432b243d3a45"
      },
      "execution_count": null,
      "outputs": [
        {
          "output_type": "stream",
          "name": "stdout",
          "text": [
            "100보다 크다\n",
            "프로그램 끝\n"
          ]
        }
      ]
    },
    {
      "cell_type": "code",
      "source": [
        "a = int(input(\"정수를 입력하세요 : \"))\n",
        "if(a%2==0):\n",
        "  print(\"짝수\")\n",
        "else : \n",
        "  print(\"홀수\")"
      ],
      "metadata": {
        "colab": {
          "base_uri": "https://localhost:8080/"
        },
        "id": "BS7u_o3h2GmG",
        "outputId": "6a38c510-8f3d-47c2-c434-048478821775"
      },
      "execution_count": null,
      "outputs": [
        {
          "output_type": "stream",
          "name": "stdout",
          "text": [
            "정수를 입력하세요 : 32\n",
            "짝수\n"
          ]
        }
      ]
    },
    {
      "cell_type": "code",
      "source": [
        "a = int(input(\"정수를 입력하세요 : \"))\n",
        "if(a > 50):\n",
        "  if(a<100):\n",
        "    print(\"50<a<100\")\n",
        "  else:\n",
        "    print(\"a>100\")\n",
        "else:\n",
        "  print(\"a<50\")"
      ],
      "metadata": {
        "colab": {
          "base_uri": "https://localhost:8080/"
        },
        "id": "_CYJGhL024Ju",
        "outputId": "7f88b83e-b40a-4a65-bb41-68f8954be126"
      },
      "execution_count": null,
      "outputs": [
        {
          "output_type": "stream",
          "name": "stdout",
          "text": [
            "정수를 입력하세요 : 4\n",
            "a<50\n"
          ]
        }
      ]
    },
    {
      "cell_type": "code",
      "source": [
        "fruit = ['사과', '배', '감', '포도']\n",
        "fruit .append('딸기')\n",
        "if '딸기' not in fruit :\n",
        "  print(\"딸기가 없습니다.\")\n",
        "else:\n",
        "  print(\"딸기가 있습니다.\")\n",
        "print(fruit)"
      ],
      "metadata": {
        "colab": {
          "base_uri": "https://localhost:8080/"
        },
        "id": "0USf0pgp7VRv",
        "outputId": "e05f7b3a-bd20-4173-ee45-e1dc433d053e"
      },
      "execution_count": null,
      "outputs": [
        {
          "output_type": "stream",
          "name": "stdout",
          "text": [
            "딸기가 있습니다.\n",
            "['사과', '배', '감', '포도', '딸기']\n"
          ]
        }
      ]
    },
    {
      "cell_type": "code",
      "source": [
        "import random\n",
        "\n",
        "number = []\n",
        "for num in range(0,7):\n",
        "  number .append(random.randrange(1,46))\n",
        "print(\"생성된 리스트\", number)"
      ],
      "metadata": {
        "colab": {
          "base_uri": "https://localhost:8080/"
        },
        "id": "AjcxGFOL83Nb",
        "outputId": "0c78c8cc-ae1d-4d76-a089-8dc4449b074a"
      },
      "execution_count": null,
      "outputs": [
        {
          "output_type": "stream",
          "name": "stdout",
          "text": [
            "생성된 리스트 [19, 45, 10, 1, 39, 34, 2]\n"
          ]
        }
      ]
    },
    {
      "cell_type": "markdown",
      "source": [
        "### 반복문"
      ],
      "metadata": {
        "id": "MsAEbXqM-V4F"
      }
    },
    {
      "cell_type": "code",
      "source": [
        "for i in range(0,3,1): # range안에 시작값, 끝값+1, 증가값 (0부터 3까지 1씩 증가)\n",
        "  print(\"%d 안녕하세요\" % i) # 반복 내용\n",
        "  print(i)\n",
        "print(\"프로그램 종료^^*\")"
      ],
      "metadata": {
        "colab": {
          "base_uri": "https://localhost:8080/"
        },
        "id": "TfpqZQTg-YuQ",
        "outputId": "f60f4434-1a72-46dc-b077-65eea71462e9"
      },
      "execution_count": null,
      "outputs": [
        {
          "output_type": "stream",
          "name": "stdout",
          "text": [
            "0 안녕하세요\n",
            "0\n",
            "1 안녕하세요\n",
            "1\n",
            "2 안녕하세요\n",
            "2\n",
            "프로그램 종료^^*\n"
          ]
        }
      ]
    },
    {
      "cell_type": "code",
      "source": [
        "for i in range(1,9,1):\n",
        "  print(\"%d\" % i, end=\" \") # 각 글자마다 더 넣음\n",
        "print(\"\")\n",
        "for i in range(1,9,1):\n",
        "  print(\"%d\" % i, end=\",\")"
      ],
      "metadata": {
        "colab": {
          "base_uri": "https://localhost:8080/"
        },
        "id": "6mAftHJh_wDn",
        "outputId": "b0876e6d-24c2-45de-f894-1bf2570f5230"
      },
      "execution_count": null,
      "outputs": [
        {
          "output_type": "stream",
          "name": "stdout",
          "text": [
            "1 2 3 4 5 6 7 8 \n",
            "1,2,3,4,5,6,7,8,"
          ]
        }
      ]
    },
    {
      "cell_type": "code",
      "source": [
        "sum=0 # 변수 잡아줘야함\n",
        "for i in range(1,11,1):\n",
        "  sum = sum + i\n",
        "print(\"1~10까지 합계 :  %d \" % sum )"
      ],
      "metadata": {
        "colab": {
          "base_uri": "https://localhost:8080/"
        },
        "id": "GbVeUCEiA0u6",
        "outputId": "b01706b6-2642-42e0-8836-8c5e7c5a3379"
      },
      "execution_count": null,
      "outputs": [
        {
          "output_type": "stream",
          "name": "stdout",
          "text": [
            "1~10까지 합계 :  55 \n"
          ]
        }
      ]
    },
    {
      "cell_type": "markdown",
      "source": [
        "#### Qui3 : 숫자 입력을 받아 1부터 입력된 숫자까지의 합을 출력하시오."
      ],
      "metadata": {
        "id": "lNdeGWDgBqje"
      }
    },
    {
      "cell_type": "code",
      "source": [
        "sum,num=0,0\n",
        "num = int(input(\"정수를 입력하세요 : \"))\n",
        "for i in range(1,num+1,1):\n",
        "  sum = sum + i\n",
        "print(\"1~n까지 합계 :  %d \" % sum)"
      ],
      "metadata": {
        "colab": {
          "base_uri": "https://localhost:8080/"
        },
        "id": "mwxP0ZD4BtYd",
        "outputId": "62e82f46-be0c-4618-8af7-a77b00172c78"
      },
      "execution_count": null,
      "outputs": [
        {
          "output_type": "stream",
          "name": "stdout",
          "text": [
            "정수를 입력하세요 : 10\n",
            "1~n까지 합계 :  55 \n"
          ]
        }
      ]
    },
    {
      "cell_type": "markdown",
      "source": [
        "### 중첩 for문"
      ],
      "metadata": {
        "id": "Ab0vYkO7DqFq"
      }
    },
    {
      "cell_type": "code",
      "source": [
        "i,j,k=0,0,0\n",
        "k = int(input(\"구구단 단수 입력 : \"))\n",
        "for i in range(1,10,1):\n",
        "  print(\"%d X %d = %2d\" % (k,i,k*i))\n",
        "  print(\"\")"
      ],
      "metadata": {
        "colab": {
          "base_uri": "https://localhost:8080/"
        },
        "id": "yh33CFP8DfUK",
        "outputId": "97b9c33f-255f-48a4-eb7f-ebc67cad4a89"
      },
      "execution_count": null,
      "outputs": [
        {
          "output_type": "stream",
          "name": "stdout",
          "text": [
            "구구단 단수 입력 : 2\n",
            "2 X 1 =  2\n",
            "\n",
            "2 X 2 =  4\n",
            "\n",
            "2 X 3 =  6\n",
            "\n",
            "2 X 4 =  8\n",
            "\n",
            "2 X 5 = 10\n",
            "\n",
            "2 X 6 = 12\n",
            "\n",
            "2 X 7 = 14\n",
            "\n",
            "2 X 8 = 16\n",
            "\n",
            "2 X 9 = 18\n",
            "\n"
          ]
        }
      ]
    },
    {
      "cell_type": "code",
      "source": [
        "i,j=0,0\n",
        "for i in range(1,10,1):\n",
        "  for j in range(2,6,1):\n",
        "    print(\"%d X %d = %2d\" % (j,i,i*j),end='\\t')\n",
        "  print(\"\")\n",
        "print()\n",
        "h,k=0,0\n",
        "for h in range(1,10,1):\n",
        "  for k in range(6,10,1):\n",
        "    print(\"%d X %d = %2d\" % (k,h,h*k),end='\\t')\n",
        "  print(\"\")"
      ],
      "metadata": {
        "colab": {
          "base_uri": "https://localhost:8080/"
        },
        "id": "GRFVJuLDFbDm",
        "outputId": "f634597e-ce4d-43a4-a4b5-1baa3102d334"
      },
      "execution_count": null,
      "outputs": [
        {
          "output_type": "stream",
          "name": "stdout",
          "text": [
            "2 X 1 =  2\t3 X 1 =  3\t4 X 1 =  4\t5 X 1 =  5\t\n",
            "2 X 2 =  4\t3 X 2 =  6\t4 X 2 =  8\t5 X 2 = 10\t\n",
            "2 X 3 =  6\t3 X 3 =  9\t4 X 3 = 12\t5 X 3 = 15\t\n",
            "2 X 4 =  8\t3 X 4 = 12\t4 X 4 = 16\t5 X 4 = 20\t\n",
            "2 X 5 = 10\t3 X 5 = 15\t4 X 5 = 20\t5 X 5 = 25\t\n",
            "2 X 6 = 12\t3 X 6 = 18\t4 X 6 = 24\t5 X 6 = 30\t\n",
            "2 X 7 = 14\t3 X 7 = 21\t4 X 7 = 28\t5 X 7 = 35\t\n",
            "2 X 8 = 16\t3 X 8 = 24\t4 X 8 = 32\t5 X 8 = 40\t\n",
            "2 X 9 = 18\t3 X 9 = 27\t4 X 9 = 36\t5 X 9 = 45\t\n",
            "\n",
            "6 X 1 =  6\t7 X 1 =  7\t8 X 1 =  8\t9 X 1 =  9\t\n",
            "6 X 2 = 12\t7 X 2 = 14\t8 X 2 = 16\t9 X 2 = 18\t\n",
            "6 X 3 = 18\t7 X 3 = 21\t8 X 3 = 24\t9 X 3 = 27\t\n",
            "6 X 4 = 24\t7 X 4 = 28\t8 X 4 = 32\t9 X 4 = 36\t\n",
            "6 X 5 = 30\t7 X 5 = 35\t8 X 5 = 40\t9 X 5 = 45\t\n",
            "6 X 6 = 36\t7 X 6 = 42\t8 X 6 = 48\t9 X 6 = 54\t\n",
            "6 X 7 = 42\t7 X 7 = 49\t8 X 7 = 56\t9 X 7 = 63\t\n",
            "6 X 8 = 48\t7 X 8 = 56\t8 X 8 = 64\t9 X 8 = 72\t\n",
            "6 X 9 = 54\t7 X 9 = 63\t8 X 9 = 72\t9 X 9 = 81\t\n"
          ]
        }
      ]
    },
    {
      "cell_type": "markdown",
      "source": [
        "## 3week"
      ],
      "metadata": {
        "id": "spA9OJEQg5g3"
      }
    },
    {
      "cell_type": "markdown",
      "source": [
        "# CH3. 자료형\n",
        "\n",
        "## 1. 인덱스와 슬라이싱\n",
        " 시험잘냄!!!"
      ],
      "metadata": {
        "id": "KYK6r9qRpG5z"
      }
    },
    {
      "cell_type": "code",
      "source": [
        "L = [0, 1, 2, 3, 4, 5, 6, 7, 8, 9]\n",
        "print(L[2])"
      ],
      "metadata": {
        "colab": {
          "base_uri": "https://localhost:8080/"
        },
        "id": "wG6dUWNXqiMJ",
        "outputId": "831be93c-32f1-4805-8518-fb9c702027ef"
      },
      "execution_count": null,
      "outputs": [
        {
          "output_type": "stream",
          "name": "stdout",
          "text": [
            "2\n"
          ]
        }
      ]
    },
    {
      "cell_type": "code",
      "source": [
        "L = [0, 1, 2, 3, 4, 5, 6, 7, 8, 9]\n",
        "print(L[-1])"
      ],
      "metadata": {
        "colab": {
          "base_uri": "https://localhost:8080/"
        },
        "id": "N_r-vIzRrn-N",
        "outputId": "24bb8b25-b96b-4305-a64a-cd1cfd6645f6"
      },
      "execution_count": null,
      "outputs": [
        {
          "output_type": "stream",
          "name": "stdout",
          "text": [
            "9\n"
          ]
        }
      ]
    },
    {
      "cell_type": "code",
      "source": [
        "L = [0, 1, 2, 3, 4, 5, 6, 7, 8, 9]\n",
        "print(L[1:4]) # 4미만 숫자 바꿔서 시험\n",
        "print(L[0:9:2]) # 0포함 2의 배수"
      ],
      "metadata": {
        "colab": {
          "base_uri": "https://localhost:8080/"
        },
        "id": "OR1Uvf5sq2s0",
        "outputId": "625b5769-f00c-438d-fa47-56d54dff4aa3"
      },
      "execution_count": null,
      "outputs": [
        {
          "output_type": "stream",
          "name": "stdout",
          "text": [
            "[1, 2, 3]\n",
            "[0, 2, 4, 6, 8]\n"
          ]
        }
      ]
    },
    {
      "cell_type": "code",
      "source": [
        "L = [0, 1, 2, 3, 4, 5, 6, 7, 8, 9]\n",
        "print(len(L))\n",
        "print(L[len(L)-1])"
      ],
      "metadata": {
        "colab": {
          "base_uri": "https://localhost:8080/"
        },
        "id": "zB70wqhFrh_7",
        "outputId": "8d128377-aa90-4163-df4f-3ebd09baadf0"
      },
      "execution_count": null,
      "outputs": [
        {
          "output_type": "stream",
          "name": "stdout",
          "text": [
            "10\n",
            "9\n"
          ]
        }
      ]
    },
    {
      "cell_type": "code",
      "source": [
        "L = [0, 1, 2, 3, 4, 5, 6, 7, 8, 9]\n",
        "L[0] = 99\n",
        "L[9] = '가나다'\n",
        "L[1] = [1,2,3]\n",
        "print(L)\n",
        "print(L[9])"
      ],
      "metadata": {
        "colab": {
          "base_uri": "https://localhost:8080/"
        },
        "id": "dlzy2kNgr9Ka",
        "outputId": "2e80986c-a77b-4512-9200-2f900c633779"
      },
      "execution_count": null,
      "outputs": [
        {
          "output_type": "stream",
          "name": "stdout",
          "text": [
            "[99, [1, 2, 3], 2, 3, 4, 5, 6, 7, 8, '가나다']\n",
            "가나다\n"
          ]
        }
      ]
    },
    {
      "cell_type": "code",
      "source": [
        "a = [1,2,3]\n",
        "b = [4,5,6]\n",
        "c = a+b\n",
        "print(a+b)\n",
        "print(c)\n",
        "print(a*3)"
      ],
      "metadata": {
        "colab": {
          "base_uri": "https://localhost:8080/"
        },
        "id": "BU3_FdwPsdvX",
        "outputId": "5b27441a-9e7f-469b-f68c-ae4f0b9fb2dd"
      },
      "execution_count": null,
      "outputs": [
        {
          "output_type": "stream",
          "name": "stdout",
          "text": [
            "[1, 2, 3, 4, 5, 6]\n",
            "[1, 2, 3, 4, 5, 6]\n",
            "[1, 2, 3, 1, 2, 3, 1, 2, 3]\n"
          ]
        }
      ]
    },
    {
      "cell_type": "code",
      "source": [
        "L = [1, 2, 3, 4, 5]\n",
        "print(L)\n",
        "L.append(6) # 리스트 뒤에 추가\n",
        "print(L)\n",
        "L.remove(3) # 요소값을 삭제\n",
        "print(L)"
      ],
      "metadata": {
        "colab": {
          "base_uri": "https://localhost:8080/"
        },
        "id": "gh6rt063s8Ny",
        "outputId": "688fb259-8ccf-42f9-a290-b972fbf4c026"
      },
      "execution_count": null,
      "outputs": [
        {
          "output_type": "stream",
          "name": "stdout",
          "text": [
            "[1, 2, 3, 4, 5]\n",
            "[1, 2, 3, 4, 5, 6]\n",
            "[1, 2, 4, 5, 6]\n"
          ]
        }
      ]
    },
    {
      "cell_type": "code",
      "source": [
        "k = ['a', 'b', 'c', 'd']\n",
        "k.remove('d')\n",
        "print(k)"
      ],
      "metadata": {
        "colab": {
          "base_uri": "https://localhost:8080/"
        },
        "id": "rJsqrW_Ttnu-",
        "outputId": "2d509705-17b9-4602-b236-0ded27654856"
      },
      "execution_count": null,
      "outputs": [
        {
          "output_type": "stream",
          "name": "stdout",
          "text": [
            "['a', 'b', 'c']\n"
          ]
        }
      ]
    },
    {
      "cell_type": "code",
      "source": [
        "k = \"God is love!\"\n",
        "print(k[:3])\n",
        "print(k[6:])\n",
        "print(k[-8:-2])"
      ],
      "metadata": {
        "colab": {
          "base_uri": "https://localhost:8080/"
        },
        "id": "IAIn0SBNwnNM",
        "outputId": "793b73db-b6dc-4ce5-de0b-ddc93e2a94ff"
      },
      "execution_count": null,
      "outputs": [
        {
          "output_type": "stream",
          "name": "stdout",
          "text": [
            "God\n",
            " love!\n",
            "is lov\n"
          ]
        }
      ]
    },
    {
      "cell_type": "code",
      "source": [
        "k = \" God is love!\"\n",
        "print(k.upper()) # 대문자\n",
        "print(k.lower()) # 소문자\n",
        "print(k.strip()) # 공간 없앰"
      ],
      "metadata": {
        "colab": {
          "base_uri": "https://localhost:8080/"
        },
        "id": "6j3DQqf5xmy6",
        "outputId": "c9432366-619d-49b5-f8b7-3cad4ee3460e"
      },
      "execution_count": null,
      "outputs": [
        {
          "output_type": "stream",
          "name": "stdout",
          "text": [
            " GOD IS LOVE!\n",
            " god is love!\n",
            "God is love!\n"
          ]
        }
      ]
    },
    {
      "cell_type": "code",
      "source": [
        "a = \" God, is love!\"\n",
        "print(a.split(\",\")) # 구분"
      ],
      "metadata": {
        "colab": {
          "base_uri": "https://localhost:8080/"
        },
        "id": "VRsF-h7YyP0T",
        "outputId": "fe35457e-375b-49e5-af3c-823b6db9b6a6"
      },
      "execution_count": null,
      "outputs": [
        {
          "output_type": "stream",
          "name": "stdout",
          "text": [
            "[' God', ' is love!']\n"
          ]
        }
      ]
    },
    {
      "cell_type": "code",
      "source": [
        "a = [\"apple\", \"banana\", \"cherry\"]\n",
        "a.append(\"orange\") # 맨뒤에 추가\n",
        "print(a)"
      ],
      "metadata": {
        "colab": {
          "base_uri": "https://localhost:8080/"
        },
        "id": "CekT7p2fy2Nk",
        "outputId": "89dfd4f2-1b60-4927-ffde-e67197b7dfd4"
      },
      "execution_count": null,
      "outputs": [
        {
          "output_type": "stream",
          "name": "stdout",
          "text": [
            "['apple', 'banana', 'cherry', 'orange']\n"
          ]
        }
      ]
    },
    {
      "cell_type": "code",
      "source": [
        "a = [\"apple\", \"banana\", \"cherry\"]\n",
        "a.insert(1,\"orange\") # 지정한 곳애 삽입\n",
        "print(a)"
      ],
      "metadata": {
        "colab": {
          "base_uri": "https://localhost:8080/"
        },
        "id": "IuaDnFyFzSOj",
        "outputId": "eee61576-4bdc-44c9-d7e9-5e3ab0ff041a"
      },
      "execution_count": null,
      "outputs": [
        {
          "output_type": "stream",
          "name": "stdout",
          "text": [
            "['apple', 'orange', 'banana', 'cherry']\n"
          ]
        }
      ]
    },
    {
      "cell_type": "code",
      "source": [
        "a = [\"apple\", \"banana\", \"cherry\"]\n",
        "a.remove(\"banana\")\n",
        "print(a)"
      ],
      "metadata": {
        "colab": {
          "base_uri": "https://localhost:8080/"
        },
        "id": "zpOosBeKz0k8",
        "outputId": "d60bdc07-70f8-4efa-f96a-a8e77467a997"
      },
      "execution_count": null,
      "outputs": [
        {
          "output_type": "stream",
          "name": "stdout",
          "text": [
            "['apple', 'cherry']\n"
          ]
        }
      ]
    },
    {
      "cell_type": "code",
      "source": [
        "a = [\"apple\", \"banana\", \"cherry\", \"orange\"]\n",
        "a.pop()\n",
        "print(a)\n",
        "a.pop(1) # 지정한 위치 삭제\n",
        "print(a)"
      ],
      "metadata": {
        "colab": {
          "base_uri": "https://localhost:8080/"
        },
        "id": "LxR73Rnf0AbN",
        "outputId": "0b422e10-4fed-4915-b02c-58b0c1d0634c"
      },
      "execution_count": null,
      "outputs": [
        {
          "output_type": "stream",
          "name": "stdout",
          "text": [
            "['apple', 'banana', 'cherry']\n",
            "['apple', 'cherry']\n"
          ]
        }
      ]
    },
    {
      "cell_type": "code",
      "source": [
        "a = [\"apple\", \"banana\", \"cherry\"]\n",
        "del a[0]\n",
        "print(a)\n",
        "a.clear() #del a <- error\n",
        "print(a)"
      ],
      "metadata": {
        "colab": {
          "base_uri": "https://localhost:8080/"
        },
        "id": "y6i0QsqR0i4t",
        "outputId": "96a9a60d-cd70-47e4-f718-a2243ea5ba45"
      },
      "execution_count": null,
      "outputs": [
        {
          "output_type": "stream",
          "name": "stdout",
          "text": [
            "['banana', 'cherry']\n",
            "[]\n"
          ]
        }
      ]
    },
    {
      "cell_type": "code",
      "source": [
        "fruit = [\"apple\", \"banana\", \"cherry\"]\n",
        "for x in fruit:\n",
        "  print(x)"
      ],
      "metadata": {
        "colab": {
          "base_uri": "https://localhost:8080/"
        },
        "id": "SzNfH2ac1BN8",
        "outputId": "6f932549-7a99-4453-ee73-451e66eea8cb"
      },
      "execution_count": null,
      "outputs": [
        {
          "output_type": "stream",
          "name": "stdout",
          "text": [
            "apple\n",
            "banana\n",
            "cherry\n"
          ]
        }
      ]
    },
    {
      "cell_type": "code",
      "source": [
        "fruit = [\"apple\", \"banana\", \"cherry\"]\n",
        "for i in range(len(fruit)): # 갯수만큼 출력\n",
        "  print(fruit)"
      ],
      "metadata": {
        "colab": {
          "base_uri": "https://localhost:8080/"
        },
        "id": "A7aVL77t1eh2",
        "outputId": "c33d2989-209f-4f00-9930-1e3f20909da6"
      },
      "execution_count": null,
      "outputs": [
        {
          "output_type": "stream",
          "name": "stdout",
          "text": [
            "['apple', 'banana', 'cherry']\n",
            "['apple', 'banana', 'cherry']\n",
            "['apple', 'banana', 'cherry']\n"
          ]
        }
      ]
    },
    {
      "cell_type": "markdown",
      "source": [
        "#### SORT"
      ],
      "metadata": {
        "id": "U0CXBjlQ1663"
      }
    },
    {
      "cell_type": "code",
      "source": [
        "a = [5,3,6,8,1,9,0]\n",
        "a.sort()\n",
        "print(a)"
      ],
      "metadata": {
        "colab": {
          "base_uri": "https://localhost:8080/"
        },
        "id": "FlA75C-A1-vE",
        "outputId": "9cc6efa6-ba16-44fa-985e-145fac46d8cb"
      },
      "execution_count": null,
      "outputs": [
        {
          "output_type": "stream",
          "name": "stdout",
          "text": [
            "[0, 1, 3, 5, 6, 8, 9]\n"
          ]
        }
      ]
    },
    {
      "cell_type": "code",
      "source": [
        "a = [5,3,6,8,1,9,0,2,4,7]\n",
        "a.sort(reverse = True)\n",
        "print(a)\n",
        "a.sort()\n",
        "print(a)"
      ],
      "metadata": {
        "colab": {
          "base_uri": "https://localhost:8080/"
        },
        "id": "AXmnlcru2QUM",
        "outputId": "85a7b561-3b64-40ff-92c8-b1f8fc11869e"
      },
      "execution_count": null,
      "outputs": [
        {
          "output_type": "stream",
          "name": "stdout",
          "text": [
            "[9, 8, 7, 6, 5, 4, 3, 2, 1, 0]\n",
            "[0, 1, 2, 3, 4, 5, 6, 7, 8, 9]\n"
          ]
        }
      ]
    },
    {
      "cell_type": "code",
      "source": [
        "fruit = [\"apple\",\"Kiwi\", \"banana\", \"Orange\", \"cherry\"]\n",
        "fruit.sort() # 대문자 먼저 정렬\n",
        "print(fruit)\n",
        "fruit.sort(key = str.lower) # 대문자 구분 없이 정렬\n",
        "print(fruit)\n",
        "fruit.reverse() # 항목의 순서를 역으로 바꿈\n",
        "print(fruit)"
      ],
      "metadata": {
        "colab": {
          "base_uri": "https://localhost:8080/"
        },
        "id": "ZULXvQBY2vP0",
        "outputId": "87dbf95f-5993-4433-c906-af8e4a6ac223"
      },
      "execution_count": null,
      "outputs": [
        {
          "output_type": "stream",
          "name": "stdout",
          "text": [
            "['Kiwi', 'Orange', 'apple', 'banana', 'cherry']\n",
            "['apple', 'banana', 'cherry', 'Kiwi', 'Orange']\n",
            "['Orange', 'Kiwi', 'cherry', 'banana', 'apple']\n"
          ]
        }
      ]
    },
    {
      "cell_type": "code",
      "source": [
        "# list 복사\n",
        "fruit = [\"apple\",\"Kiwi\", \"banana\", \"Orange\", \"cherry\"]\n",
        "myList = fruit.copy()\n",
        "print(myList)\n",
        "cpList = list(fruit)\n",
        "print(cpList)"
      ],
      "metadata": {
        "colab": {
          "base_uri": "https://localhost:8080/"
        },
        "id": "UtKIHRO84B5s",
        "outputId": "2a1107e5-1d3d-41a5-aa43-9b663252dcd8"
      },
      "execution_count": null,
      "outputs": [
        {
          "output_type": "stream",
          "name": "stdout",
          "text": [
            "['apple', 'Kiwi', 'banana', 'Orange', 'cherry']\n",
            "['apple', 'Kiwi', 'banana', 'Orange', 'cherry']\n"
          ]
        }
      ]
    },
    {
      "cell_type": "markdown",
      "source": [
        "### 2. Tuple\n",
        "수를 바꿀 수 없다\n",
        "연산이 빠름 ()"
      ],
      "metadata": {
        "id": "-hpXuNsw5PH6"
      }
    },
    {
      "cell_type": "code",
      "source": [
        "l = [1,2,3]\n",
        "t = (4,5,6) # 변경 불가\n",
        "l[0] = 5\n",
        "print(l)\n",
        "# t[0] = 1\n",
        "print(t)"
      ],
      "metadata": {
        "colab": {
          "base_uri": "https://localhost:8080/"
        },
        "id": "DCuwV7Q_5ZzM",
        "outputId": "154bde8b-bf7e-4e34-b787-4ce1bf6b93c7"
      },
      "execution_count": null,
      "outputs": [
        {
          "output_type": "stream",
          "name": "stdout",
          "text": [
            "[5, 2, 3]\n",
            "(4, 5, 6)\n"
          ]
        }
      ]
    },
    {
      "cell_type": "code",
      "source": [
        "t = [\"apple\",\"Kiwi\", \"banana\", \"Orange\", \"cherry\"]\n",
        "print(len(t))"
      ],
      "metadata": {
        "colab": {
          "base_uri": "https://localhost:8080/"
        },
        "id": "SXEYseZ46Fov",
        "outputId": "710df0fa-3dfc-4fe0-ec0c-8649ceeb98d6"
      },
      "execution_count": null,
      "outputs": [
        {
          "output_type": "stream",
          "name": "stdout",
          "text": [
            "5\n"
          ]
        }
      ]
    },
    {
      "cell_type": "code",
      "source": [
        "t = (\"apple\",) # tuple 인식 (하나짜리는 튜플로 인식하기 위해서 \",\" 필요)\n",
        "print(t)\n",
        "print(type(t))\n",
        "f = (\"banana\") # tuple 인식 X\n",
        "print(f)\n",
        "print(type(f))"
      ],
      "metadata": {
        "colab": {
          "base_uri": "https://localhost:8080/"
        },
        "id": "TNf2z5nq6N6b",
        "outputId": "20dbd9e7-af51-4116-c430-aac4142be88d"
      },
      "execution_count": null,
      "outputs": [
        {
          "output_type": "stream",
          "name": "stdout",
          "text": [
            "('apple',)\n",
            "<class 'tuple'>\n",
            "banana\n",
            "<class 'str'>\n"
          ]
        }
      ]
    },
    {
      "cell_type": "code",
      "source": [
        "f = (\"apple\",\"Kiwi\", \"banana\", \"Orange\", \"cherry\")\n",
        "print(f[:4])\n",
        "print(f[2:])"
      ],
      "metadata": {
        "colab": {
          "base_uri": "https://localhost:8080/"
        },
        "id": "ilFD7VF-7TlI",
        "outputId": "4b21e849-7239-4df9-be7c-874361726160"
      },
      "execution_count": null,
      "outputs": [
        {
          "output_type": "stream",
          "name": "stdout",
          "text": [
            "('apple', 'Kiwi', 'banana', 'Orange')\n",
            "('banana', 'Orange', 'cherry')\n"
          ]
        }
      ]
    },
    {
      "cell_type": "code",
      "source": [
        "f = (\"apple\",\"Kiwi\", \"banana\", \"Orange\", \"cherry\")\n",
        "if \"apple\" in f:\n",
        "  print(\"Yes, 'apple' is in\")\n",
        "else:\n",
        "  print(\"No\")"
      ],
      "metadata": {
        "colab": {
          "base_uri": "https://localhost:8080/"
        },
        "id": "CT_RjS987x5I",
        "outputId": "99e530bf-dadd-49fd-fb81-aef8a8d3dbbd"
      },
      "execution_count": null,
      "outputs": [
        {
          "output_type": "stream",
          "name": "stdout",
          "text": [
            "Yes, 'apple' is in\n"
          ]
        }
      ]
    },
    {
      "cell_type": "markdown",
      "source": [
        "#### list <-> tuple "
      ],
      "metadata": {
        "id": "gjMqCqbx_xkL"
      }
    },
    {
      "cell_type": "code",
      "source": [
        "firm = ['Samsung', 'LG', 'SK']\n",
        "tdata = tuple(firm)\n",
        "print(firm)\n",
        "print(tdata)"
      ],
      "metadata": {
        "colab": {
          "base_uri": "https://localhost:8080/"
        },
        "id": "ks1mpZBQ_4Kk",
        "outputId": "10e2550a-6040-4c3d-8237-be92a9e41380"
      },
      "execution_count": null,
      "outputs": [
        {
          "output_type": "stream",
          "name": "stdout",
          "text": [
            "['Samsung', 'LG', 'SK']\n",
            "('Samsung', 'LG', 'SK')\n"
          ]
        }
      ]
    },
    {
      "cell_type": "code",
      "source": [
        "# tuple에 추가 (시험)\n",
        "t = (\"apple\",\"Kiwi\", \"banana\", \"cherry\") \n",
        "y = list(t)\n",
        "y.append(\"Orange\")\n",
        "t = tuple(y)\n",
        "print(t)"
      ],
      "metadata": {
        "colab": {
          "base_uri": "https://localhost:8080/"
        },
        "id": "Oj7-m5vMAelY",
        "outputId": "a85e1815-fefb-47d6-f179-f138303922db"
      },
      "execution_count": null,
      "outputs": [
        {
          "output_type": "stream",
          "name": "stdout",
          "text": [
            "('apple', 'Kiwi', 'banana', 'cherry', 'Orange')\n"
          ]
        }
      ]
    },
    {
      "cell_type": "code",
      "source": [
        "t = (\"apple\", \"banana\", \"cherry\")\n",
        "q = (\"kiwi\",)\n",
        "t += q\n",
        "print(t) # tuple + tuple 가능"
      ],
      "metadata": {
        "colab": {
          "base_uri": "https://localhost:8080/"
        },
        "id": "dYuOAu3PBEaa",
        "outputId": "27f3cca6-740c-4a66-e11b-9ef56d48ef32"
      },
      "execution_count": null,
      "outputs": [
        {
          "output_type": "stream",
          "name": "stdout",
          "text": [
            "('apple', 'banana', 'cherry', 'kiwi')\n"
          ]
        }
      ]
    },
    {
      "cell_type": "code",
      "source": [
        "t = (\"apple\", \"banana\", \"cherry\")\n",
        "l = list(t)\n",
        "l.remove(\"apple\")\n",
        "t = tuple(l)\n",
        "print(t) # tuple 에서 빼는법\n",
        "# del t 삭제 가능하지만 프린트 불가"
      ],
      "metadata": {
        "colab": {
          "base_uri": "https://localhost:8080/"
        },
        "id": "6O8lUYTaBgUz",
        "outputId": "21b933c7-ca14-472c-8d71-2b212d98fab9"
      },
      "execution_count": null,
      "outputs": [
        {
          "output_type": "stream",
          "name": "stdout",
          "text": [
            "('banana', 'cherry')\n"
          ]
        }
      ]
    },
    {
      "cell_type": "markdown",
      "source": [
        "#### 3. dict 사전자료형 {}\n",
        "값의 추가 수정 용이\n",
        "keys, values, items"
      ],
      "metadata": {
        "id": "DPWe4CWUDttS"
      }
    },
    {
      "cell_type": "code",
      "source": [
        "d = {\n",
        "    'a':1,\n",
        "     'b':2,\n",
        "     'c':3\n",
        "}\n",
        "print(d)\n",
        "print(d.keys())\n",
        "print(d.values())\n",
        "print(d.items())"
      ],
      "metadata": {
        "colab": {
          "base_uri": "https://localhost:8080/"
        },
        "id": "Y8i7IRr5EJ5w",
        "outputId": "1d23ea76-6428-40a6-a5bd-7479b5f26c56"
      },
      "execution_count": null,
      "outputs": [
        {
          "output_type": "stream",
          "name": "stdout",
          "text": [
            "{'a': 1, 'b': 2, 'c': 3}\n",
            "dict_keys(['a', 'b', 'c'])\n",
            "dict_values([1, 2, 3])\n",
            "dict_items([('a', 1), ('b', 2), ('c', 3)])\n"
          ]
        }
      ]
    },
    {
      "cell_type": "code",
      "source": [
        "# 추가 가능\n",
        "car = {\n",
        "    \"brand\" : \"BMW\",\n",
        "    \"model\" : \"GT\",\n",
        "    \"year\" : 1988\n",
        "}\n",
        "print(car)\n",
        "print(len(car))\n",
        "print(type(car))\n",
        "car[\"year\"] = 2000\n",
        "car[\"item\"] = 123456 \n",
        "car.update({\"color\" : \"red\"}) \n",
        "print(car) "
      ],
      "metadata": {
        "colab": {
          "base_uri": "https://localhost:8080/"
        },
        "id": "zQOTSpbRE0T-",
        "outputId": "993da91e-b66c-494e-f50f-84843b6a4ba1"
      },
      "execution_count": null,
      "outputs": [
        {
          "output_type": "stream",
          "name": "stdout",
          "text": [
            "{'brand': 'BMW', 'model': 'GT', 'year': 1988}\n",
            "3\n",
            "<class 'dict'>\n",
            "{'brand': 'BMW', 'model': 'GT', 'year': 2000, 'item': 123456, 'color': 'red'}\n"
          ]
        }
      ]
    },
    {
      "cell_type": "code",
      "source": [
        "# 항목 제거\n",
        "car = {\n",
        "    \"brand\" : \"BMW\",\n",
        "    \"model\" : \"GT\",\n",
        "    \"year\" : 1988\n",
        "}\n",
        "car.pop(\"model\")\n",
        "print(car)"
      ],
      "metadata": {
        "colab": {
          "base_uri": "https://localhost:8080/"
        },
        "id": "ycDeWtowGqoH",
        "outputId": "b3761cbd-7f0f-415e-bfd0-49d502c8b4e7"
      },
      "execution_count": null,
      "outputs": [
        {
          "output_type": "stream",
          "name": "stdout",
          "text": [
            "{'brand': 'BMW', 'year': 1988}\n"
          ]
        }
      ]
    },
    {
      "cell_type": "code",
      "source": [
        "car = {\n",
        "    \"brand\" : \"BMW\",\n",
        "    \"model\" : \"GT\",\n",
        "    \"year\" : 1988\n",
        "}\n",
        "car.popitem() #뒤에부터 삭제\n",
        "print(car)"
      ],
      "metadata": {
        "colab": {
          "base_uri": "https://localhost:8080/"
        },
        "id": "wQytwEGZG7tZ",
        "outputId": "8eb96d8d-a90d-4d12-ba40-7dc383f7f4c9"
      },
      "execution_count": null,
      "outputs": [
        {
          "output_type": "stream",
          "name": "stdout",
          "text": [
            "{'brand': 'BMW', 'model': 'GT'}\n"
          ]
        }
      ]
    },
    {
      "cell_type": "code",
      "source": [
        "car = {\n",
        "    \"brand\" : \"BMW\",\n",
        "    \"model\" : \"GT\",\n",
        "    \"year\" : 1988\n",
        "}\n",
        "car.clear() # 비움\n",
        "del car # 삭제"
      ],
      "metadata": {
        "id": "Zi666f58HQrw"
      },
      "execution_count": null,
      "outputs": []
    },
    {
      "cell_type": "markdown",
      "source": [
        "#### LOOP"
      ],
      "metadata": {
        "id": "8kp6D4DPHjBV"
      }
    },
    {
      "cell_type": "code",
      "source": [
        "car = {\n",
        "    \"brand\" : \"BMW\",\n",
        "    \"model\" : \"GT\",\n",
        "    \"year\" : 1988\n",
        "}\n",
        "for x in car:\n",
        "  print(car[x])"
      ],
      "metadata": {
        "colab": {
          "base_uri": "https://localhost:8080/"
        },
        "id": "tbMWEAGkHov1",
        "outputId": "f1563b51-4257-4c4a-aea5-6329cee11417"
      },
      "execution_count": null,
      "outputs": [
        {
          "output_type": "stream",
          "name": "stdout",
          "text": [
            "BMW\n",
            "GT\n",
            "1988\n"
          ]
        }
      ]
    },
    {
      "cell_type": "code",
      "source": [
        "car = {\n",
        "    \"brand\" : \"BMW\",\n",
        "    \"model\" : \"GT\",\n",
        "    \"year\" : 1988\n",
        "}\n",
        "for x in car.values():\n",
        "  print(x)\n",
        "for x in car.keys():\n",
        "  print(x)\n",
        "for x in car.items():\n",
        "  print(x)"
      ],
      "metadata": {
        "colab": {
          "base_uri": "https://localhost:8080/"
        },
        "id": "rqgKTr40II5C",
        "outputId": "122fca63-fe9a-43e6-ef9c-018a8307e1b2"
      },
      "execution_count": null,
      "outputs": [
        {
          "output_type": "stream",
          "name": "stdout",
          "text": [
            "BMW\n",
            "GT\n",
            "1988\n",
            "brand\n",
            "model\n",
            "year\n",
            "('brand', 'BMW')\n",
            "('model', 'GT')\n",
            "('year', 1988)\n"
          ]
        }
      ]
    },
    {
      "cell_type": "code",
      "source": [
        "car = {\n",
        "    \"brand\" : \"BMW\",\n",
        "    \"model\" : \"GT\",\n",
        "    \"year\" : 1988\n",
        "}\n",
        "for x,y in car.items():\n",
        "  print(x,y)"
      ],
      "metadata": {
        "colab": {
          "base_uri": "https://localhost:8080/"
        },
        "id": "LqFYWK2gIij6",
        "outputId": "cb3ed3a4-8787-41ba-be88-e9cceb6d477b"
      },
      "execution_count": null,
      "outputs": [
        {
          "output_type": "stream",
          "name": "stdout",
          "text": [
            "brand BMW\n",
            "model GT\n",
            "year 1988\n"
          ]
        }
      ]
    },
    {
      "cell_type": "code",
      "source": [
        "car = {\n",
        "    \"brand\" : \"BMW\",\n",
        "    \"model\" : \"GT\",\n",
        "    \"year\" : 1988\n",
        "}\n",
        "myCar = car.copy()\n",
        "print(myCar)"
      ],
      "metadata": {
        "colab": {
          "base_uri": "https://localhost:8080/"
        },
        "id": "PoMyC841Iucl",
        "outputId": "9572b3cb-66b6-46ef-9943-cc81a10de2ae"
      },
      "execution_count": null,
      "outputs": [
        {
          "output_type": "stream",
          "name": "stdout",
          "text": [
            "{'brand': 'BMW', 'model': 'GT', 'year': 1988}\n"
          ]
        }
      ]
    },
    {
      "cell_type": "code",
      "source": [
        "car = {\n",
        "    \"brand\" : \"BMW\",\n",
        "    \"model\" : \"GT\",\n",
        "    \"year\" : 1988\n",
        "}\n",
        "myCar = dict(car)\n",
        "print(myCar)"
      ],
      "metadata": {
        "colab": {
          "base_uri": "https://localhost:8080/"
        },
        "id": "M9Q8v5ofJGaa",
        "outputId": "c35d3393-2e84-4b0a-efa6-09c7a50a941a"
      },
      "execution_count": null,
      "outputs": [
        {
          "output_type": "stream",
          "name": "stdout",
          "text": [
            "{'brand': 'BMW', 'model': 'GT', 'year': 1988}\n"
          ]
        }
      ]
    },
    {
      "cell_type": "code",
      "source": [
        "name1 = {\"name\":\"홍길동\", \"year\":2001}\n",
        "name2 = {\"name\":\"갑돌이\", \"year\":2010}\n",
        "name3 = {\"name\":\"갑순이\", \"year\":2003}\n",
        "family = {\n",
        "    \"name1\" : name1,\n",
        "    \"name2\" : name2,\n",
        "    \"name3\" : name3\n",
        "}\n",
        "print(family)"
      ],
      "metadata": {
        "colab": {
          "base_uri": "https://localhost:8080/"
        },
        "id": "sq6lCJzAJRG9",
        "outputId": "cfc23ec4-2c10-419d-dfed-ec4729411f34"
      },
      "execution_count": null,
      "outputs": [
        {
          "output_type": "stream",
          "name": "stdout",
          "text": [
            "{'name1': {'name': '홍길동', 'year': 2001}, 'name2': {'name': '갑돌이', 'year': 2010}, 'name3': {'name': '갑순이', 'year': 2003}}\n"
          ]
        }
      ]
    },
    {
      "cell_type": "markdown",
      "source": [
        "# 5week"
      ],
      "metadata": {
        "id": "sa54LBrzn6jv"
      }
    },
    {
      "cell_type": "markdown",
      "source": [
        "## 중첩 if문"
      ],
      "metadata": {
        "id": "pkBjW7RFok3r"
      }
    },
    {
      "cell_type": "code",
      "source": [
        "score = int(input(\"점수를 입력해 주세요 : \"))\n",
        "if (score > 100):\n",
        "  print(\"0~100 까지 숫자를 입력하세요.\")\n",
        "else:\n",
        "  if(score >= 90):\n",
        "    print(\"점수: %3d A\"%(score))\n",
        "  elif(score >= 80):\n",
        "    print(\"점수: %3d B\"%(score))\n",
        "  elif(score >= 70):\n",
        "    print(\"점수: %3d C\"%(score))\n",
        "  elif(score >= 60):\n",
        "    print(\"점수: %3d D\"%(score))\n",
        "  else:\n",
        "    print(\"점수: %3d F\"%(score))\n",
        "print(\"학점입니다.\")"
      ],
      "metadata": {
        "colab": {
          "base_uri": "https://localhost:8080/"
        },
        "id": "NaeCSGG2orYH",
        "outputId": "e2a660f8-78c1-4bea-a812-66aa6e429f78"
      },
      "execution_count": null,
      "outputs": [
        {
          "output_type": "stream",
          "name": "stdout",
          "text": [
            "점수를 입력해 주세요 : 5\n",
            "점수:   5 F\n",
            "학점입니다.\n"
          ]
        }
      ]
    },
    {
      "cell_type": "code",
      "source": [
        "import random\n",
        "\n",
        "numbers = []\n",
        "for num in range(0,10):\n",
        "  numbers.append(random.randrange(0,10))\n",
        "\n",
        "print(\"생성된 리스트\", numbers)\n",
        "for num in range(0,10):\n",
        "  if num not in numbers:\n",
        "    print(\"숫자 %d는 리스트에 없습니다.\"%num)\n",
        "  else:\n",
        "    print(\"숫자 %d는 리스트에 있습니다.\"%num)"
      ],
      "metadata": {
        "colab": {
          "base_uri": "https://localhost:8080/"
        },
        "id": "305Bst1MzaXC",
        "outputId": "d391d111-5ac5-487f-f759-a4969818d593"
      },
      "execution_count": null,
      "outputs": [
        {
          "output_type": "stream",
          "name": "stdout",
          "text": [
            "생성된 리스트 [3, 3, 6, 6, 9, 7, 8, 4, 0, 4]\n",
            "숫자 0는 리스트에 있습니다.\n",
            "숫자 1는 리스트에 없습니다.\n",
            "숫자 2는 리스트에 없습니다.\n",
            "숫자 3는 리스트에 있습니다.\n",
            "숫자 4는 리스트에 있습니다.\n",
            "숫자 5는 리스트에 없습니다.\n",
            "숫자 6는 리스트에 있습니다.\n",
            "숫자 7는 리스트에 있습니다.\n",
            "숫자 8는 리스트에 있습니다.\n",
            "숫자 9는 리스트에 있습니다.\n"
          ]
        }
      ]
    },
    {
      "cell_type": "code",
      "source": [
        "select , answer, numStr, num1, num2 = 0,0,\"\",0,0\n",
        "select = int(input(\"1.입력한 수식 계산 2. 두수의 합계:\"))\n",
        "if select == 1:\n",
        "  numStr = input(\"*** 수식을 입력하세요 ex)(1*2) :\")\n",
        "  answer = eval(numStr) # 1+2, string+string\n",
        "  print(\" %s 결과는 %5.1f입니다.\" %(numStr,answer))\n",
        "elif select ==2:\n",
        "  num1 = int(input(\"*** 첫번째 숫자를 입력하세요 : \"))\n",
        "  num2 = int(input(\"*** 두번째 숫자를 입력하세요 : \"))\n",
        "  for i  in range (num1,num2+1):\n",
        "    answer = answer + i\n",
        "  print(\"%d+...+%d는 %d입니다.\" %(num1, num2, answer))\n",
        "else:\n",
        "  print(\"1또는 2만 입력해야합니다.\")"
      ],
      "metadata": {
        "colab": {
          "base_uri": "https://localhost:8080/"
        },
        "id": "zpuszSk25g35",
        "outputId": "9671ef0f-c6ce-4c69-8547-bd73e90ccdec"
      },
      "execution_count": null,
      "outputs": [
        {
          "output_type": "stream",
          "name": "stdout",
          "text": [
            "1.입력한 수식 계산 2. 두수의 합계:1\n",
            "*** 수식을 입력하세요 ex)(1*2) :1+5\n",
            " 1+5 결과는   6.0입니다.\n"
          ]
        }
      ]
    },
    {
      "cell_type": "markdown",
      "source": [
        "## for & while 반복문"
      ],
      "metadata": {
        "id": "Xex7rEPm-Y1h"
      }
    },
    {
      "cell_type": "code",
      "source": [
        "for i in range(0,3,1): # 중간은 +1\n",
        "  print(\"안녕!\")"
      ],
      "metadata": {
        "colab": {
          "base_uri": "https://localhost:8080/"
        },
        "id": "5FkaOn64-TxR",
        "outputId": "43167a08-ebcd-470f-8c19-5a95f09a183a"
      },
      "execution_count": null,
      "outputs": [
        {
          "output_type": "stream",
          "name": "stdout",
          "text": [
            "안녕!\n",
            "안녕!\n",
            "안녕!\n"
          ]
        }
      ]
    },
    {
      "cell_type": "code",
      "source": [
        "for j in[0,3,1]: \n",
        "  print(\"안녕!\")"
      ],
      "metadata": {
        "colab": {
          "base_uri": "https://localhost:8080/"
        },
        "id": "P1n1sb92-_i0",
        "outputId": "94d05939-05c3-41f4-bcaa-99235b47b692"
      },
      "execution_count": null,
      "outputs": [
        {
          "output_type": "stream",
          "name": "stdout",
          "text": [
            "안녕!\n",
            "안녕!\n",
            "안녕!\n"
          ]
        }
      ]
    },
    {
      "cell_type": "code",
      "source": [
        "for i in range(0,3,1):\n",
        "  for j in range(0,5,1):\n",
        "    print (\"i:%d, j:%d\" %(i,j))"
      ],
      "metadata": {
        "colab": {
          "base_uri": "https://localhost:8080/"
        },
        "id": "F__-cAEjAaM6",
        "outputId": "fd495834-efd4-46b1-a47b-e7bc2a07165d"
      },
      "execution_count": null,
      "outputs": [
        {
          "output_type": "stream",
          "name": "stdout",
          "text": [
            "i:0, j:0\n",
            "i:0, j:1\n",
            "i:0, j:2\n",
            "i:0, j:3\n",
            "i:0, j:4\n",
            "i:1, j:0\n",
            "i:1, j:1\n",
            "i:1, j:2\n",
            "i:1, j:3\n",
            "i:1, j:4\n",
            "i:2, j:0\n",
            "i:2, j:1\n",
            "i:2, j:2\n",
            "i:2, j:3\n",
            "i:2, j:4\n"
          ]
        }
      ]
    },
    {
      "cell_type": "code",
      "source": [
        "i,j = 0,0\n",
        "for i in  range(2,10,1):\n",
        "  for j in range(1,10,1):\n",
        "    print(\"%d x %d = %2d\" %(i,j,i*j),end=\" \")\n",
        "  print(\"\")"
      ],
      "metadata": {
        "colab": {
          "base_uri": "https://localhost:8080/"
        },
        "id": "3O44LKHyBRqs",
        "outputId": "1deb9554-e3e8-419e-b749-ba15db886c41"
      },
      "execution_count": null,
      "outputs": [
        {
          "output_type": "stream",
          "name": "stdout",
          "text": [
            "2 x 1 =  2 2 x 2 =  4 2 x 3 =  6 2 x 4 =  8 2 x 5 = 10 2 x 6 = 12 2 x 7 = 14 2 x 8 = 16 2 x 9 = 18 \n",
            "3 x 1 =  3 3 x 2 =  6 3 x 3 =  9 3 x 4 = 12 3 x 5 = 15 3 x 6 = 18 3 x 7 = 21 3 x 8 = 24 3 x 9 = 27 \n",
            "4 x 1 =  4 4 x 2 =  8 4 x 3 = 12 4 x 4 = 16 4 x 5 = 20 4 x 6 = 24 4 x 7 = 28 4 x 8 = 32 4 x 9 = 36 \n",
            "5 x 1 =  5 5 x 2 = 10 5 x 3 = 15 5 x 4 = 20 5 x 5 = 25 5 x 6 = 30 5 x 7 = 35 5 x 8 = 40 5 x 9 = 45 \n",
            "6 x 1 =  6 6 x 2 = 12 6 x 3 = 18 6 x 4 = 24 6 x 5 = 30 6 x 6 = 36 6 x 7 = 42 6 x 8 = 48 6 x 9 = 54 \n",
            "7 x 1 =  7 7 x 2 = 14 7 x 3 = 21 7 x 4 = 28 7 x 5 = 35 7 x 6 = 42 7 x 7 = 49 7 x 8 = 56 7 x 9 = 63 \n",
            "8 x 1 =  8 8 x 2 = 16 8 x 3 = 24 8 x 4 = 32 8 x 5 = 40 8 x 6 = 48 8 x 7 = 56 8 x 8 = 64 8 x 9 = 72 \n",
            "9 x 1 =  9 9 x 2 = 18 9 x 3 = 27 9 x 4 = 36 9 x 5 = 45 9 x 6 = 54 9 x 7 = 63 9 x 8 = 72 9 x 9 = 81 \n"
          ]
        }
      ]
    },
    {
      "cell_type": "code",
      "source": [
        "i = 0\n",
        "while i < 3:\n",
        "  print(\"%d : while문\"%i)\n",
        "  i = i+1"
      ],
      "metadata": {
        "colab": {
          "base_uri": "https://localhost:8080/"
        },
        "id": "lF4UjhkCCY_z",
        "outputId": "00ec1d7d-586c-4d07-d9b9-87fdf9a28e8e"
      },
      "execution_count": null,
      "outputs": [
        {
          "output_type": "stream",
          "name": "stdout",
          "text": [
            "0 : while문\n",
            "1 : while문\n",
            "2 : while문\n"
          ]
        }
      ]
    },
    {
      "cell_type": "code",
      "source": [
        "# Q 1부터 10까지 합계를 while 문으로 구하시오\n",
        "i, hap = 0,0\n",
        "i = 1\n",
        "while i<11:\n",
        "  hap = hap + i\n",
        "  i = i + 1\n",
        "print(\"1부터 10까지의 합계는 %d입니다\"%hap)"
      ],
      "metadata": {
        "colab": {
          "base_uri": "https://localhost:8080/"
        },
        "id": "wEL1bETtC8jr",
        "outputId": "d0d09cac-07cb-4ab2-ce03-d23737f8dee2"
      },
      "execution_count": null,
      "outputs": [
        {
          "output_type": "stream",
          "name": "stdout",
          "text": [
            "55입니다\n"
          ]
        }
      ]
    },
    {
      "cell_type": "code",
      "source": [
        "# Q 1부터 10까지 합계를 for 문으로 구하시오\n",
        "i, hap = 0,0\n",
        "i = 1\n",
        "for i in range (0,11,1):\n",
        "  hap = hap + i\n",
        "print(\"1부터 10까지의 합계는 %d입니다\"%hap)"
      ],
      "metadata": {
        "colab": {
          "base_uri": "https://localhost:8080/"
        },
        "id": "TImBtPE_DoaC",
        "outputId": "088a2599-b5ba-4012-fac9-d0d35010fa76"
      },
      "execution_count": null,
      "outputs": [
        {
          "output_type": "stream",
          "name": "stdout",
          "text": [
            "1부터 10까지의 합계는 55입니다\n"
          ]
        }
      ]
    },
    {
      "cell_type": "code",
      "source": [
        "#while True:\n",
        "print(\" 한무 루프 \")"
      ],
      "metadata": {
        "colab": {
          "base_uri": "https://localhost:8080/"
        },
        "id": "BQz1HZ8QEOxf",
        "outputId": "9573415a-ce81-4139-d985-1cdd9fce4eab"
      },
      "execution_count": null,
      "outputs": [
        {
          "output_type": "stream",
          "name": "stdout",
          "text": [
            " 한무 루프 \n"
          ]
        }
      ]
    },
    {
      "cell_type": "code",
      "source": [
        "#시험 잘나옴\n",
        "# break\n",
        "for i in range(1,100):\n",
        "  print(\"for문 %d번 실행\"%i)\n",
        "  if (i == 10):\n",
        "    break\n",
        "print(\"break 빠짐\")"
      ],
      "metadata": {
        "colab": {
          "base_uri": "https://localhost:8080/"
        },
        "id": "Zs3R-VFsEqOz",
        "outputId": "c33a7eb1-6fb9-4b09-824b-5de29e640bd6"
      },
      "execution_count": null,
      "outputs": [
        {
          "output_type": "stream",
          "name": "stdout",
          "text": [
            "for문 1번 실행\n",
            "for문 2번 실행\n",
            "for문 3번 실행\n",
            "for문 4번 실행\n",
            "for문 5번 실행\n",
            "for문 6번 실행\n",
            "for문 7번 실행\n",
            "for문 8번 실행\n",
            "for문 9번 실행\n",
            "for문 10번 실행\n",
            "break 빠짐\n"
          ]
        }
      ]
    },
    {
      "cell_type": "code",
      "source": [
        "hap = 0\n",
        "a,b = 0,0\n",
        "while True:\n",
        "  a = int(input(\"덧셈 첫번째 수 입력:\"))\n",
        "  if a==0:\n",
        "    break\n",
        "  b= int (input(\"덧셈 두번째 수 입력:\"))\n",
        "  hap = a+b\n",
        "  print(\"%d + %d = %d\" %(a,b,hap))\n",
        "\n",
        "print(\"break로 탈출\")"
      ],
      "metadata": {
        "colab": {
          "base_uri": "https://localhost:8080/"
        },
        "id": "WpOreVluFX3V",
        "outputId": "52545b86-22be-4d3c-fde7-ad37399786a8"
      },
      "execution_count": null,
      "outputs": [
        {
          "output_type": "stream",
          "name": "stdout",
          "text": [
            "덧셈 첫번째 수 입력:3\n",
            "덧셈 두번째 수 입력:8\n",
            "3 + 8 = 11\n",
            "덧셈 첫번째 수 입력:4\n",
            "덧셈 두번째 수 입력:3\n",
            "4 + 3 = 7\n",
            "덧셈 첫번째 수 입력:0\n",
            "break로 탈출\n"
          ]
        }
      ]
    },
    {
      "cell_type": "code",
      "source": [
        "#continue\n",
        "hap, i = 0,0\n",
        "for i in range(1,11):\n",
        "  if i % 3 == 0:\n",
        "    print(\"i;%d\" %i)\n",
        "    continue\n",
        "  hap += i\n",
        "print(\"1~10 합계(3의 배수 제외): %d \" %hap)"
      ],
      "metadata": {
        "colab": {
          "base_uri": "https://localhost:8080/"
        },
        "id": "s_80G9CoGRGL",
        "outputId": "7f41218a-043c-4f72-a0e7-98b77c4f218b"
      },
      "execution_count": null,
      "outputs": [
        {
          "output_type": "stream",
          "name": "stdout",
          "text": [
            "i;3\n",
            "i;6\n",
            "i;9\n",
            "1~10 합계(3의 배수 제외): 37 \n"
          ]
        }
      ]
    },
    {
      "cell_type": "code",
      "source": [
        "fruits = [\"사과\",\"바나나\",\"체리\"]\n",
        "for x in fruits:\n",
        "  if x == \"바나나\":\n",
        "    continue\n",
        "  print(x)"
      ],
      "metadata": {
        "colab": {
          "base_uri": "https://localhost:8080/"
        },
        "id": "3-aZiWSHH_XX",
        "outputId": "88124b12-fc0c-47d4-a4c5-f0db0875d4aa"
      },
      "execution_count": null,
      "outputs": [
        {
          "output_type": "stream",
          "name": "stdout",
          "text": [
            "사과\n",
            "체리\n"
          ]
        }
      ]
    },
    {
      "cell_type": "code",
      "source": [
        "for x in range(6):\n",
        "  print(x)\n",
        "else:\n",
        "  print(\"끝\")"
      ],
      "metadata": {
        "colab": {
          "base_uri": "https://localhost:8080/"
        },
        "id": "DE20cjjiIlvY",
        "outputId": "71e1d43e-81c8-46fc-92bc-822cc99da94b"
      },
      "execution_count": null,
      "outputs": [
        {
          "output_type": "stream",
          "name": "stdout",
          "text": [
            "0\n",
            "1\n",
            "2\n",
            "3\n",
            "4\n",
            "5\n",
            "끝\n"
          ]
        }
      ]
    },
    {
      "cell_type": "code",
      "source": [
        "for x in range(6):\n",
        "  if x == 3: break\n",
        "  print(x)\n",
        "else:\n",
        "  print(\"끝\")"
      ],
      "metadata": {
        "colab": {
          "base_uri": "https://localhost:8080/"
        },
        "id": "-aOA546tJLUU",
        "outputId": "5bdd14a1-1e41-4344-f3dc-a683fe085dc3"
      },
      "execution_count": null,
      "outputs": [
        {
          "output_type": "stream",
          "name": "stdout",
          "text": [
            "0\n",
            "1\n",
            "2\n"
          ]
        }
      ]
    },
    {
      "cell_type": "code",
      "source": [
        "#for문 루프는 비워 둘 수 없음\n",
        "for x in[0,1,2]:\n",
        "  pass"
      ],
      "metadata": {
        "id": "HPm8p-9gKHQo"
      },
      "execution_count": null,
      "outputs": []
    },
    {
      "cell_type": "markdown",
      "source": [
        "## 함수"
      ],
      "metadata": {
        "id": "gOqszuY7Lrtv"
      }
    },
    {
      "cell_type": "code",
      "source": [
        "#두 수를 더하는 함수\n",
        "def plus(v1,v2):\n",
        "  result = 0\n",
        "  result = v1 + v2\n",
        "  return result\n",
        "hap = 0\n",
        "hap = plus(10,20)\n",
        "print(\"10+20 plus() 처리 결과는 %d 입니다\" %hap)\n",
        "hap = plus(30,20)\n",
        "print(\"30+20 plus() 처리 결과는 %d 입니다\" %hap)"
      ],
      "metadata": {
        "colab": {
          "base_uri": "https://localhost:8080/"
        },
        "id": "GHdh211NLul1",
        "outputId": "30d12dfc-0b3a-4029-d096-57192ebfc08c"
      },
      "execution_count": null,
      "outputs": [
        {
          "output_type": "stream",
          "name": "stdout",
          "text": [
            "10+20 plus() 처리 결과는 30 입니다\n",
            "30+20 plus() 처리 결과는 50 입니다\n"
          ]
        }
      ]
    },
    {
      "cell_type": "code",
      "source": [
        "3# 계산기 코드\n",
        "def clac(v1,v2,op):\n",
        "  result = 0\n",
        "  if op == '+':\n",
        "    result = v1 + v2\n",
        "  elif op == '-':\n",
        "    result = v1 - v2\n",
        "  elif op == '*':\n",
        "    result = v1 * v2\n",
        "  elif op == '/':\n",
        "    result = v1 / v2\n",
        "  return result\n",
        "\n",
        "rst = 0\n",
        "var1,var2,opr = 0,0,\"\"\n",
        "\n",
        "opr = input(\"+.-,*,/ 입력 :\")\n",
        "var1 = int(input(\"1번째 수 입력:\"))\n",
        "var2 = int(input(\"2번째 수 입력:\"))\n",
        "rst = clac(var1,var2,opr)\n",
        "print(\"%d %s %d = %d 입니다\" %(var1,opr,var2,rst))\n",
        "    "
      ],
      "metadata": {
        "colab": {
          "base_uri": "https://localhost:8080/"
        },
        "id": "Yt-zrq6WM-_A",
        "outputId": "4075966b-5248-4217-99e6-f141b04ed140"
      },
      "execution_count": null,
      "outputs": [
        {
          "output_type": "stream",
          "name": "stdout",
          "text": [
            "+.-,*,/ 입력 :+\n",
            "1번째 수 입력:3\n",
            "2번째 수 입력:3\n",
            "3 + 3 = 6 입니다\n"
          ]
        }
      ]
    },
    {
      "cell_type": "markdown",
      "source": [
        "# Q 0으로 나누려고하면 메세지 출력 계산 되지 않게, **제곱 연산자 추가 (숫자1, 연산자, 숫자2) 컨티뉴나 브레이크 사용"
      ],
      "metadata": {
        "id": "zuVm_peKQF9K"
      }
    },
    {
      "cell_type": "code",
      "source": [
        "def clac(v1,v2,op):\n",
        "  result = 0\n",
        "  if op == '+':\n",
        "    result = v1 + v2\n",
        "  elif op == '-':\n",
        "    result = v1 - v2\n",
        "  elif op == '*':\n",
        "    result = v1 * v2\n",
        "  elif op == '/':\n",
        "    result = v1 / v2\n",
        "  elif op == '**':\n",
        "    result = v1 ** v2\n",
        "  return result\n",
        "\n",
        "\n",
        "rst = 0\n",
        "var1,var2,opr = 0,0,\"\"\n",
        "while True:\n",
        "  var1 = int(input(\"1번째 수 입력:\"))\n",
        "  opr = input(\"+.-,*,/,** 입력 :\")\n",
        "  var2 = int(input(\"2번째 수 입력:\"))\n",
        "  if opr == '/' and var2 == 0:\n",
        "      print(\"0으로 나눌 수 없습니다. \")\n",
        "      continue  \n",
        "  rst = clac(var1,var2,opr)\n",
        "\n",
        "  print(\"%d %s %d = %d 입니다\" %(var1,opr,var2,rst))\n",
        "  break"
      ],
      "metadata": {
        "colab": {
          "base_uri": "https://localhost:8080/"
        },
        "id": "-iz7SVCrP8jU",
        "outputId": "26a6074a-2271-4255-f8c7-108ef796736d"
      },
      "execution_count": null,
      "outputs": [
        {
          "output_type": "stream",
          "name": "stdout",
          "text": [
            "1번째 수 입력:4\n",
            "+.-,*,/,** 입력 :/\n",
            "2번째 수 입력:0\n",
            "0으로 나눌 수 없습니다. \n",
            "1번째 수 입력:4\n",
            "+.-,*,/,** 입력 :/\n",
            "2번째 수 입력:2\n",
            "4 / 2 = 2 입니다\n"
          ]
        }
      ]
    },
    {
      "cell_type": "code",
      "source": [
        "# 전역 변수와 지역변수\n",
        "def func1():\n",
        "  a = 10 # 지역변수\n",
        "  print(\"func1()에서 값 %d\" %a)\n",
        "\n",
        "def func2():\n",
        "  a = 20 # 지역변수\n",
        "  print(\"func2()에서 값 %d\" %a)\n",
        "\n",
        "a = 20 #전역변수\n",
        "\n",
        "func1()\n",
        "func2()"
      ],
      "metadata": {
        "colab": {
          "base_uri": "https://localhost:8080/"
        },
        "id": "zPrhWi5NQ7tN",
        "outputId": "4f884f35-a71f-458f-9e04-262cadf8b069"
      },
      "execution_count": null,
      "outputs": [
        {
          "output_type": "stream",
          "name": "stdout",
          "text": [
            "func1()에서 값 10\n",
            "func2()에서 값 20\n"
          ]
        }
      ]
    },
    {
      "cell_type": "markdown",
      "source": [
        "# 6week"
      ],
      "metadata": {
        "id": "LKK3zmp7rOlh"
      }
    },
    {
      "cell_type": "markdown",
      "source": [
        "# ch5 파일처리\n",
        "\"r\" read\n",
        "\"a\" append\n",
        "\"w\" write\n",
        "\"x\" create\n",
        "\"t\" text\n",
        "\"b\" binary"
      ],
      "metadata": {
        "id": "oarZVe3Uv1G1"
      }
    },
    {
      "cell_type": "code",
      "source": [
        "# w\n",
        "from google.colab import files\n",
        "f = open(\"a.txt\", 'w')\n",
        "f.write(\"12345\")\n",
        "f.close()\n",
        "\n",
        "\n",
        "f = open(\"a.txt\", 'w')\n",
        "f.write(\"abcde\")\n",
        "f.close()\n",
        "\n",
        "files.download('a.txt')\n"
      ],
      "metadata": {
        "colab": {
          "base_uri": "https://localhost:8080/",
          "height": 17
        },
        "id": "Qw31pcd_wLxa",
        "outputId": "74bbd3b1-ec0b-4308-caeb-f3e3cbcc66e4"
      },
      "execution_count": null,
      "outputs": [
        {
          "output_type": "display_data",
          "data": {
            "text/plain": [
              "<IPython.core.display.Javascript object>"
            ],
            "application/javascript": [
              "\n",
              "    async function download(id, filename, size) {\n",
              "      if (!google.colab.kernel.accessAllowed) {\n",
              "        return;\n",
              "      }\n",
              "      const div = document.createElement('div');\n",
              "      const label = document.createElement('label');\n",
              "      label.textContent = `Downloading \"${filename}\": `;\n",
              "      div.appendChild(label);\n",
              "      const progress = document.createElement('progress');\n",
              "      progress.max = size;\n",
              "      div.appendChild(progress);\n",
              "      document.body.appendChild(div);\n",
              "\n",
              "      const buffers = [];\n",
              "      let downloaded = 0;\n",
              "\n",
              "      const channel = await google.colab.kernel.comms.open(id);\n",
              "      // Send a message to notify the kernel that we're ready.\n",
              "      channel.send({})\n",
              "\n",
              "      for await (const message of channel.messages) {\n",
              "        // Send a message to notify the kernel that we're ready.\n",
              "        channel.send({})\n",
              "        if (message.buffers) {\n",
              "          for (const buffer of message.buffers) {\n",
              "            buffers.push(buffer);\n",
              "            downloaded += buffer.byteLength;\n",
              "            progress.value = downloaded;\n",
              "          }\n",
              "        }\n",
              "      }\n",
              "      const blob = new Blob(buffers, {type: 'application/binary'});\n",
              "      const a = document.createElement('a');\n",
              "      a.href = window.URL.createObjectURL(blob);\n",
              "      a.download = filename;\n",
              "      div.appendChild(a);\n",
              "      a.click();\n",
              "      div.remove();\n",
              "    }\n",
              "  "
            ]
          },
          "metadata": {}
        },
        {
          "output_type": "display_data",
          "data": {
            "text/plain": [
              "<IPython.core.display.Javascript object>"
            ],
            "application/javascript": [
              "download(\"download_430327b2-dd6e-478a-a3ff-796cbe882c28\", \"a.txt\", 5)"
            ]
          },
          "metadata": {}
        }
      ]
    },
    {
      "cell_type": "code",
      "source": [
        "#a\n",
        "from google.colab import files\n",
        "\n",
        "f = open(\"a.txt\", 'w')\n",
        "f.write(\"12345\")\n",
        "f.close() # 꼭 닫아야함\n",
        "\n",
        "f = open(\"a.txt\", 'a')\n",
        "f.write(\"6789\")\n",
        "f.close()\n",
        "\n",
        "files.download('a.txt')\n"
      ],
      "metadata": {
        "colab": {
          "base_uri": "https://localhost:8080/",
          "height": 17
        },
        "id": "g_yQNhpQx-OB",
        "outputId": "e51fb65c-48eb-4b21-919d-253e60538c0c"
      },
      "execution_count": null,
      "outputs": [
        {
          "output_type": "display_data",
          "data": {
            "text/plain": [
              "<IPython.core.display.Javascript object>"
            ],
            "application/javascript": [
              "\n",
              "    async function download(id, filename, size) {\n",
              "      if (!google.colab.kernel.accessAllowed) {\n",
              "        return;\n",
              "      }\n",
              "      const div = document.createElement('div');\n",
              "      const label = document.createElement('label');\n",
              "      label.textContent = `Downloading \"${filename}\": `;\n",
              "      div.appendChild(label);\n",
              "      const progress = document.createElement('progress');\n",
              "      progress.max = size;\n",
              "      div.appendChild(progress);\n",
              "      document.body.appendChild(div);\n",
              "\n",
              "      const buffers = [];\n",
              "      let downloaded = 0;\n",
              "\n",
              "      const channel = await google.colab.kernel.comms.open(id);\n",
              "      // Send a message to notify the kernel that we're ready.\n",
              "      channel.send({})\n",
              "\n",
              "      for await (const message of channel.messages) {\n",
              "        // Send a message to notify the kernel that we're ready.\n",
              "        channel.send({})\n",
              "        if (message.buffers) {\n",
              "          for (const buffer of message.buffers) {\n",
              "            buffers.push(buffer);\n",
              "            downloaded += buffer.byteLength;\n",
              "            progress.value = downloaded;\n",
              "          }\n",
              "        }\n",
              "      }\n",
              "      const blob = new Blob(buffers, {type: 'application/binary'});\n",
              "      const a = document.createElement('a');\n",
              "      a.href = window.URL.createObjectURL(blob);\n",
              "      a.download = filename;\n",
              "      div.appendChild(a);\n",
              "      a.click();\n",
              "      div.remove();\n",
              "    }\n",
              "  "
            ]
          },
          "metadata": {}
        },
        {
          "output_type": "display_data",
          "data": {
            "text/plain": [
              "<IPython.core.display.Javascript object>"
            ],
            "application/javascript": [
              "download(\"download_a6ed5325-aaea-42d7-a7bd-c2248a2decf1\", \"a.txt\", 9)"
            ]
          },
          "metadata": {}
        }
      ]
    },
    {
      "cell_type": "code",
      "source": [
        "#x 똑같은 이름의 파일을 만들면 에러뜸\n",
        "from google.colab import files\n",
        "\n",
        "f = open(\"b.txt\", 'x')\n",
        "f.write(\"12345\")\n",
        "f.close() \n",
        "\n",
        "\n",
        "files.download('b.txt')\n"
      ],
      "metadata": {
        "colab": {
          "base_uri": "https://localhost:8080/",
          "height": 17
        },
        "id": "lnGnJc2PyuNg",
        "outputId": "ae9e1fd2-dcc0-48be-99ef-f0e42c1f5058"
      },
      "execution_count": null,
      "outputs": [
        {
          "output_type": "display_data",
          "data": {
            "text/plain": [
              "<IPython.core.display.Javascript object>"
            ],
            "application/javascript": [
              "\n",
              "    async function download(id, filename, size) {\n",
              "      if (!google.colab.kernel.accessAllowed) {\n",
              "        return;\n",
              "      }\n",
              "      const div = document.createElement('div');\n",
              "      const label = document.createElement('label');\n",
              "      label.textContent = `Downloading \"${filename}\": `;\n",
              "      div.appendChild(label);\n",
              "      const progress = document.createElement('progress');\n",
              "      progress.max = size;\n",
              "      div.appendChild(progress);\n",
              "      document.body.appendChild(div);\n",
              "\n",
              "      const buffers = [];\n",
              "      let downloaded = 0;\n",
              "\n",
              "      const channel = await google.colab.kernel.comms.open(id);\n",
              "      // Send a message to notify the kernel that we're ready.\n",
              "      channel.send({})\n",
              "\n",
              "      for await (const message of channel.messages) {\n",
              "        // Send a message to notify the kernel that we're ready.\n",
              "        channel.send({})\n",
              "        if (message.buffers) {\n",
              "          for (const buffer of message.buffers) {\n",
              "            buffers.push(buffer);\n",
              "            downloaded += buffer.byteLength;\n",
              "            progress.value = downloaded;\n",
              "          }\n",
              "        }\n",
              "      }\n",
              "      const blob = new Blob(buffers, {type: 'application/binary'});\n",
              "      const a = document.createElement('a');\n",
              "      a.href = window.URL.createObjectURL(blob);\n",
              "      a.download = filename;\n",
              "      div.appendChild(a);\n",
              "      a.click();\n",
              "      div.remove();\n",
              "    }\n",
              "  "
            ]
          },
          "metadata": {}
        },
        {
          "output_type": "display_data",
          "data": {
            "text/plain": [
              "<IPython.core.display.Javascript object>"
            ],
            "application/javascript": [
              "download(\"download_7aa0812f-39bd-4c2f-a9d3-e1ea33547a26\", \"b.txt\", 5)"
            ]
          },
          "metadata": {}
        }
      ]
    },
    {
      "cell_type": "code",
      "source": [
        "#x\n",
        "from google.colab import files\n",
        "# 생성된 파일이 있으면 에러\n",
        "#f = open(\"b.txt\", 'x')\n",
        "#f.write(\"12345\")\n",
        "#f.close() \n",
        "\n",
        "#files.download('b.txt')\n"
      ],
      "metadata": {
        "id": "O7HuZ0NizEn8"
      },
      "execution_count": null,
      "outputs": []
    },
    {
      "cell_type": "code",
      "source": [
        "# 여러줄 내용 입력\n",
        "from google.colab import files \n",
        "\n",
        "f = open(\"a.txt\", 'w')\n",
        "#f.write(\"12345678\\n987654321\\nabcde\")\n",
        "f.write(\"\"\"1234\n",
        "4567\n",
        "7890\"\"\")\n",
        "f.close() \n",
        "\n",
        "files.download('a.txt')\n"
      ],
      "metadata": {
        "colab": {
          "base_uri": "https://localhost:8080/",
          "height": 17
        },
        "id": "6PW6snDczdgm",
        "outputId": "1cd1c6e7-0d0a-4f27-de66-ddd3041d1666"
      },
      "execution_count": null,
      "outputs": [
        {
          "output_type": "display_data",
          "data": {
            "text/plain": [
              "<IPython.core.display.Javascript object>"
            ],
            "application/javascript": [
              "\n",
              "    async function download(id, filename, size) {\n",
              "      if (!google.colab.kernel.accessAllowed) {\n",
              "        return;\n",
              "      }\n",
              "      const div = document.createElement('div');\n",
              "      const label = document.createElement('label');\n",
              "      label.textContent = `Downloading \"${filename}\": `;\n",
              "      div.appendChild(label);\n",
              "      const progress = document.createElement('progress');\n",
              "      progress.max = size;\n",
              "      div.appendChild(progress);\n",
              "      document.body.appendChild(div);\n",
              "\n",
              "      const buffers = [];\n",
              "      let downloaded = 0;\n",
              "\n",
              "      const channel = await google.colab.kernel.comms.open(id);\n",
              "      // Send a message to notify the kernel that we're ready.\n",
              "      channel.send({})\n",
              "\n",
              "      for await (const message of channel.messages) {\n",
              "        // Send a message to notify the kernel that we're ready.\n",
              "        channel.send({})\n",
              "        if (message.buffers) {\n",
              "          for (const buffer of message.buffers) {\n",
              "            buffers.push(buffer);\n",
              "            downloaded += buffer.byteLength;\n",
              "            progress.value = downloaded;\n",
              "          }\n",
              "        }\n",
              "      }\n",
              "      const blob = new Blob(buffers, {type: 'application/binary'});\n",
              "      const a = document.createElement('a');\n",
              "      a.href = window.URL.createObjectURL(blob);\n",
              "      a.download = filename;\n",
              "      div.appendChild(a);\n",
              "      a.click();\n",
              "      div.remove();\n",
              "    }\n",
              "  "
            ]
          },
          "metadata": {}
        },
        {
          "output_type": "display_data",
          "data": {
            "text/plain": [
              "<IPython.core.display.Javascript object>"
            ],
            "application/javascript": [
              "download(\"download_ee5d6161-97f3-41a2-9ba4-961ef5c3d034\", \"a.txt\", 14)"
            ]
          },
          "metadata": {}
        }
      ]
    },
    {
      "cell_type": "code",
      "source": [
        "# 리스트, 튜플 내용을 입력\n",
        "\n",
        "from google.colab import files\n",
        "\n",
        "t = (\"1\", \"2\", \"3\", \"4\", \"\\n\")\n",
        "l = [\"a\", \"b\", \"c\", \"d\"]\n",
        "\n",
        "f = open(\"a.txt\", 'w')\n",
        "f.writelines(t)\n",
        "f.writelines(l)\n",
        "f.close() \n",
        "\n",
        "files.download('a.txt')\n"
      ],
      "metadata": {
        "colab": {
          "base_uri": "https://localhost:8080/",
          "height": 17
        },
        "id": "rfSNnPcP0a-l",
        "outputId": "7294bdf7-289f-4e5b-b2a1-40b60cd4ddcf"
      },
      "execution_count": null,
      "outputs": [
        {
          "output_type": "display_data",
          "data": {
            "text/plain": [
              "<IPython.core.display.Javascript object>"
            ],
            "application/javascript": [
              "\n",
              "    async function download(id, filename, size) {\n",
              "      if (!google.colab.kernel.accessAllowed) {\n",
              "        return;\n",
              "      }\n",
              "      const div = document.createElement('div');\n",
              "      const label = document.createElement('label');\n",
              "      label.textContent = `Downloading \"${filename}\": `;\n",
              "      div.appendChild(label);\n",
              "      const progress = document.createElement('progress');\n",
              "      progress.max = size;\n",
              "      div.appendChild(progress);\n",
              "      document.body.appendChild(div);\n",
              "\n",
              "      const buffers = [];\n",
              "      let downloaded = 0;\n",
              "\n",
              "      const channel = await google.colab.kernel.comms.open(id);\n",
              "      // Send a message to notify the kernel that we're ready.\n",
              "      channel.send({})\n",
              "\n",
              "      for await (const message of channel.messages) {\n",
              "        // Send a message to notify the kernel that we're ready.\n",
              "        channel.send({})\n",
              "        if (message.buffers) {\n",
              "          for (const buffer of message.buffers) {\n",
              "            buffers.push(buffer);\n",
              "            downloaded += buffer.byteLength;\n",
              "            progress.value = downloaded;\n",
              "          }\n",
              "        }\n",
              "      }\n",
              "      const blob = new Blob(buffers, {type: 'application/binary'});\n",
              "      const a = document.createElement('a');\n",
              "      a.href = window.URL.createObjectURL(blob);\n",
              "      a.download = filename;\n",
              "      div.appendChild(a);\n",
              "      a.click();\n",
              "      div.remove();\n",
              "    }\n",
              "  "
            ]
          },
          "metadata": {}
        },
        {
          "output_type": "display_data",
          "data": {
            "text/plain": [
              "<IPython.core.display.Javascript object>"
            ],
            "application/javascript": [
              "download(\"download_da7794c8-6d58-4e94-bf73-b3e187a547fe\", \"a.txt\", 9)"
            ]
          },
          "metadata": {}
        }
      ]
    },
    {
      "cell_type": "code",
      "source": [
        "# read 모드로 파일 열기\n",
        "from google.colab import files\n",
        "\n",
        "f = open(\"a.txt\", 'w')\n",
        "f.write(\"1234\")\n",
        "f.close() \n",
        "\n",
        "f = open(\"a.txt\", 'r')\n",
        "print(f.read())\n",
        "f.close()\n",
        "\n",
        "files.download('a.txt')\n"
      ],
      "metadata": {
        "colab": {
          "base_uri": "https://localhost:8080/",
          "height": 36
        },
        "id": "KqNnnsVw1cI9",
        "outputId": "141819ce-8fa7-46fb-9572-10ffef1833a3"
      },
      "execution_count": null,
      "outputs": [
        {
          "output_type": "stream",
          "name": "stdout",
          "text": [
            "1234\n"
          ]
        },
        {
          "output_type": "display_data",
          "data": {
            "text/plain": [
              "<IPython.core.display.Javascript object>"
            ],
            "application/javascript": [
              "\n",
              "    async function download(id, filename, size) {\n",
              "      if (!google.colab.kernel.accessAllowed) {\n",
              "        return;\n",
              "      }\n",
              "      const div = document.createElement('div');\n",
              "      const label = document.createElement('label');\n",
              "      label.textContent = `Downloading \"${filename}\": `;\n",
              "      div.appendChild(label);\n",
              "      const progress = document.createElement('progress');\n",
              "      progress.max = size;\n",
              "      div.appendChild(progress);\n",
              "      document.body.appendChild(div);\n",
              "\n",
              "      const buffers = [];\n",
              "      let downloaded = 0;\n",
              "\n",
              "      const channel = await google.colab.kernel.comms.open(id);\n",
              "      // Send a message to notify the kernel that we're ready.\n",
              "      channel.send({})\n",
              "\n",
              "      for await (const message of channel.messages) {\n",
              "        // Send a message to notify the kernel that we're ready.\n",
              "        channel.send({})\n",
              "        if (message.buffers) {\n",
              "          for (const buffer of message.buffers) {\n",
              "            buffers.push(buffer);\n",
              "            downloaded += buffer.byteLength;\n",
              "            progress.value = downloaded;\n",
              "          }\n",
              "        }\n",
              "      }\n",
              "      const blob = new Blob(buffers, {type: 'application/binary'});\n",
              "      const a = document.createElement('a');\n",
              "      a.href = window.URL.createObjectURL(blob);\n",
              "      a.download = filename;\n",
              "      div.appendChild(a);\n",
              "      a.click();\n",
              "      div.remove();\n",
              "    }\n",
              "  "
            ]
          },
          "metadata": {}
        },
        {
          "output_type": "display_data",
          "data": {
            "text/plain": [
              "<IPython.core.display.Javascript object>"
            ],
            "application/javascript": [
              "download(\"download_40117348-1223-403a-aa8b-3abcda961d52\", \"a.txt\", 4)"
            ]
          },
          "metadata": {}
        }
      ]
    },
    {
      "cell_type": "code",
      "source": [
        "# readline() 함수 : 한줄씩 가져옴\n",
        "from google.colab import files\n",
        "\n",
        "f = open(\"a.txt\", 'r')\n",
        "print(f.readline())\n",
        "print(f.readline())\n",
        "f.close() \n"
      ],
      "metadata": {
        "colab": {
          "base_uri": "https://localhost:8080/"
        },
        "id": "1sLitRRF2b1W",
        "outputId": "bb01a3fb-512a-454d-afcd-0aad61d08395"
      },
      "execution_count": null,
      "outputs": [
        {
          "output_type": "stream",
          "name": "stdout",
          "text": [
            "1234\n",
            "\n"
          ]
        }
      ]
    },
    {
      "cell_type": "code",
      "source": [
        "from google.colab import files\n",
        "\n",
        "import os\n",
        "if os.path.exists(\"a.txt\"):\n",
        "  os.remove(\"a.txt\") #os.reir(\"folder\")\n",
        "else:\n",
        "  print(\"파일이 없음\")"
      ],
      "metadata": {
        "id": "YT8A8DdK833Q"
      },
      "execution_count": null,
      "outputs": []
    },
    {
      "cell_type": "code",
      "source": [
        "# read 모드로 파일 열기\n",
        "from google.colab import files\n",
        "\n",
        "import os\n",
        "print(os.listdir('.'))\n",
        "os.rename(\"b.txt\", \"a.txt\") #file이름 변경\n",
        "print(os.listdir('.'))"
      ],
      "metadata": {
        "colab": {
          "base_uri": "https://localhost:8080/"
        },
        "id": "HrY9PZsi9vE8",
        "outputId": "cc940bfb-2c5f-4efa-a0a0-2a797ac2f545"
      },
      "execution_count": null,
      "outputs": [
        {
          "output_type": "stream",
          "name": "stdout",
          "text": [
            "['.config', 'b.txt', 'sample_data']\n",
            "['.config', 'a.txt', 'sample_data']\n"
          ]
        }
      ]
    },
    {
      "cell_type": "code",
      "source": [
        "from google.colab import files\n",
        "# file 존재 유무 확인\n",
        "print(os.path.exists(\"a.txt\"))\n",
        "print(os.path.exists('b.txt'))"
      ],
      "metadata": {
        "colab": {
          "base_uri": "https://localhost:8080/"
        },
        "id": "aDTOPY6g-0yr",
        "outputId": "0ae8bce0-b580-4a7f-a427-7646b267c588"
      },
      "execution_count": null,
      "outputs": [
        {
          "output_type": "stream",
          "name": "stdout",
          "text": [
            "True\n",
            "False\n"
          ]
        }
      ]
    },
    {
      "cell_type": "code",
      "source": [
        "# 구구단 파일로 저장\n",
        "from google.colab import files\n",
        "import sys\n",
        "\n",
        "f = open(\"a.txt\",'w', encoding='utf8') #euc-kr\n",
        "sys.stdout = f\n",
        "for i in range(2,10):\n",
        "  for j in range(1,10):\n",
        "    print(\"{} x {} = {}\".format(i,j,i*j))\n",
        "  print()\n",
        "f.close()\n",
        "\n",
        "files.download('a.txt')"
      ],
      "metadata": {
        "id": "AGkLQsqRCFTI"
      },
      "execution_count": null,
      "outputs": []
    },
    {
      "cell_type": "code",
      "source": [
        "from google.colab import files\n",
        "import sys\n",
        "\n",
        "f = open(\"c.txt\", 'w', encoding='utf8')\n",
        "f.write(\"\"\"gsds\n",
        "안녕하세요.\n",
        "Hello World!!\"\"\")\n",
        "f.close()\n",
        "\n",
        "f = open(\"c.txt\",'r', encoding='utf8')\n",
        "lines = f.readlines()\n",
        "for line in lines:\n",
        "  print(line, end='')\n",
        "f.close()\n",
        "\n",
        "files.download('c.txt')"
      ],
      "metadata": {
        "colab": {
          "base_uri": "https://localhost:8080/",
          "height": 73
        },
        "id": "W8yTYEj7DjRK",
        "outputId": "76becac7-d0ff-48c1-9791-2776f0cb7fdd"
      },
      "execution_count": null,
      "outputs": [
        {
          "output_type": "stream",
          "name": "stdout",
          "text": [
            "gsds\n",
            "안녕하세요.\n",
            "Hello World!!"
          ]
        },
        {
          "output_type": "display_data",
          "data": {
            "text/plain": [
              "<IPython.core.display.Javascript object>"
            ],
            "application/javascript": [
              "\n",
              "    async function download(id, filename, size) {\n",
              "      if (!google.colab.kernel.accessAllowed) {\n",
              "        return;\n",
              "      }\n",
              "      const div = document.createElement('div');\n",
              "      const label = document.createElement('label');\n",
              "      label.textContent = `Downloading \"${filename}\": `;\n",
              "      div.appendChild(label);\n",
              "      const progress = document.createElement('progress');\n",
              "      progress.max = size;\n",
              "      div.appendChild(progress);\n",
              "      document.body.appendChild(div);\n",
              "\n",
              "      const buffers = [];\n",
              "      let downloaded = 0;\n",
              "\n",
              "      const channel = await google.colab.kernel.comms.open(id);\n",
              "      // Send a message to notify the kernel that we're ready.\n",
              "      channel.send({})\n",
              "\n",
              "      for await (const message of channel.messages) {\n",
              "        // Send a message to notify the kernel that we're ready.\n",
              "        channel.send({})\n",
              "        if (message.buffers) {\n",
              "          for (const buffer of message.buffers) {\n",
              "            buffers.push(buffer);\n",
              "            downloaded += buffer.byteLength;\n",
              "            progress.value = downloaded;\n",
              "          }\n",
              "        }\n",
              "      }\n",
              "      const blob = new Blob(buffers, {type: 'application/binary'});\n",
              "      const a = document.createElement('a');\n",
              "      a.href = window.URL.createObjectURL(blob);\n",
              "      a.download = filename;\n",
              "      div.appendChild(a);\n",
              "      a.click();\n",
              "      div.remove();\n",
              "    }\n",
              "  "
            ]
          },
          "metadata": {}
        },
        {
          "output_type": "display_data",
          "data": {
            "text/plain": [
              "<IPython.core.display.Javascript object>"
            ],
            "application/javascript": [
              "download(\"download_4c365f47-9eef-4c9a-bd9e-300ccec43c58\", \"c.txt\", 35)"
            ]
          },
          "metadata": {}
        }
      ]
    },
    {
      "cell_type": "code",
      "source": [
        "# diamond\n",
        "y = int(input(\"줄 수를 입력하세요:\"))\n",
        "x = int(y/2)+1\n",
        "\n",
        "for i in range(1, 2*x):\n",
        "    if(i <= x):\n",
        "        for j in range(x-i):\n",
        "            print(\" \", end='')\n",
        "        \n",
        "        for j in range(2*i-1):\n",
        "            print(\"0\", end='')\n",
        "        print()\n",
        "    \n",
        "    else :\n",
        "        for j in range(i-x):\n",
        "            print(\" \", end='')\n",
        "        \n",
        "        for j in range((2*x-i)*2-1):\n",
        "            print(\"0\", end='')\n",
        "        print()    "
      ],
      "metadata": {
        "colab": {
          "base_uri": "https://localhost:8080/"
        },
        "id": "1Q_xWJ_2VoF-",
        "outputId": "95e76c51-8667-4cfd-8cb6-6934bc24b39a"
      },
      "execution_count": null,
      "outputs": [
        {
          "output_type": "stream",
          "name": "stdout",
          "text": [
            "줄 수를 입력하세요:5\n",
            "  0\n",
            " 000\n",
            "00000\n",
            " 000\n",
            "  0\n"
          ]
        }
      ]
    },
    {
      "cell_type": "code",
      "source": [
        "#star\n",
        "n = int(input(\"몇 줄짜리 별을 출력할까요? \"))\n",
        "\n",
        "for i in range(1, n+1):\n",
        "    print(\"*\" * i)\n",
        "print()\n",
        "for i in range(n, 0, -1):\n",
        "    print(\"*\" * i)"
      ],
      "metadata": {
        "colab": {
          "base_uri": "https://localhost:8080/"
        },
        "id": "xIGZ0YK_Vs9g",
        "outputId": "6f412a2c-da87-4bf3-f158-ea69cad9dda9"
      },
      "execution_count": null,
      "outputs": [
        {
          "output_type": "stream",
          "name": "stdout",
          "text": [
            "몇 줄짜리 별을 출력할까요? 5\n",
            "*\n",
            "**\n",
            "***\n",
            "****\n",
            "*****\n",
            "\n",
            "*****\n",
            "****\n",
            "***\n",
            "**\n",
            "*\n"
          ]
        }
      ]
    },
    {
      "cell_type": "markdown",
      "source": [
        "# 7week"
      ],
      "metadata": {
        "id": "CrO348jrBCbQ"
      }
    },
    {
      "cell_type": "code",
      "source": [
        "def Hello():\n",
        "    \"함수의 실명을 적을 수 있음\" \n",
        "    print(\"안녕하세요\")\n",
        "    print(\"파이썬 함수 연습입니다.\")\n",
        "c=0\n",
        "def add(a,b):\n",
        "    \"두 개의 변수를 받아 더하는 함수\"\n",
        "    global c\n",
        "    c = a + b\n",
        "    print(c) #pass 패스를 쓰면 오류가 안남\n",
        "\n",
        "def addr(a,b):\n",
        "    return a+b #return으로 하면 편함 안하면 global + c=0 해야함\n",
        "\n",
        "x = add(10,20)\n",
        "\n",
        "print(c)\n",
        "print(\"-------------\")\n",
        "y = addr(10,20)\n",
        "print(y)\n",
        "Hello()\n",
        "help(Hello)"
      ],
      "metadata": {
        "colab": {
          "base_uri": "https://localhost:8080/"
        },
        "id": "jssoEf95CdJk",
        "outputId": "154517aa-07ea-47e5-b226-14143df63766"
      },
      "execution_count": 1,
      "outputs": [
        {
          "output_type": "stream",
          "name": "stdout",
          "text": [
            "30\n",
            "30\n",
            "-------------\n",
            "30\n",
            "안녕하세요\n",
            "파이썬 함수 연습입니다.\n",
            "Help on function Hello in module __main__:\n",
            "\n",
            "Hello()\n",
            "    함수의 실명을 적을 수 있음\n",
            "\n"
          ]
        }
      ]
    },
    {
      "cell_type": "code",
      "source": [
        "a = 20 #전역\n",
        "def func():\n",
        "    a = 10 #지역\n",
        "    print(a)\n",
        "\n",
        "func() # 10\n",
        "print(a) #20"
      ],
      "metadata": {
        "colab": {
          "base_uri": "https://localhost:8080/"
        },
        "id": "b8v6EyGXk_dF",
        "outputId": "43d0c58c-fc89-4352-f4ef-d1e17c3b12cc"
      },
      "execution_count": 2,
      "outputs": [
        {
          "output_type": "stream",
          "name": "stdout",
          "text": [
            "10\n",
            "20\n"
          ]
        }
      ]
    },
    {
      "cell_type": "code",
      "source": [
        "a = 10\n",
        "def func():\n",
        "    b = 20 #지역\n",
        "    print(b)\n",
        "    return a + b\n",
        "\n",
        "x = func() \n",
        "print(x) "
      ],
      "metadata": {
        "colab": {
          "base_uri": "https://localhost:8080/"
        },
        "id": "CZ7ieA2clB3q",
        "outputId": "ae838ddc-afa5-4199-975a-a074968d7635"
      },
      "execution_count": 3,
      "outputs": [
        {
          "output_type": "stream",
          "name": "stdout",
          "text": [
            "20\n",
            "30\n"
          ]
        }
      ]
    },
    {
      "cell_type": "code",
      "source": [
        "def func(a,b=20): #a값을 매개변수로 잡으면 에러\n",
        "    print(a+b)\n",
        "\n",
        "func(10,30) # a값만 넣었을 때 b = 20으로 출력"
      ],
      "metadata": {
        "colab": {
          "base_uri": "https://localhost:8080/"
        },
        "id": "Ay8kQPDZlD2D",
        "outputId": "2bafdda4-9977-4e24-db5b-cbc7cd8052b1"
      },
      "execution_count": 4,
      "outputs": [
        {
          "output_type": "stream",
          "name": "stdout",
          "text": [
            "40\n"
          ]
        }
      ]
    },
    {
      "cell_type": "code",
      "source": [
        "from tkinter import *\n",
        "\n",
        "window = Tk()\n",
        "\n",
        "window.title(\"윈도우 창 연습\")\n",
        "window.geometry(\"400x400\") #크기 x는 소문자로\n",
        "window.resizable(width=FALSE, height=FALSE) #false크기고정\n",
        "\n",
        "window.mainloop()"
      ],
      "metadata": {
        "id": "1y3i3no8lKS4"
      },
      "execution_count": null,
      "outputs": []
    },
    {
      "cell_type": "code",
      "source": [
        "from tkinter import *\n",
        "\n",
        "window = Tk()\n",
        "\n",
        "window.title(\"레이블\")\n",
        "label1 = Label(window, text = \"안녕하세요! 김재성 입니다.\")\n",
        "label2 = Label(window, text = \"I love Python\", font = (\"궁서체\",30), fg = \"red\")\n",
        "label3 = Label(window, text = \"Love is\", bg = \"yellow\", width = 20, height = 30, anchor = NE)\n",
        "\n",
        "label1.pack()\n",
        "label2.pack()\n",
        "label3.pack()\n",
        "window.mainloop()"
      ],
      "metadata": {
        "id": "RRgRArtUlOQp"
      },
      "execution_count": null,
      "outputs": []
    },
    {
      "cell_type": "code",
      "source": [
        "from tkinter import *\n",
        "\n",
        "window = Tk()\n",
        "window.geometry(\"400x400\")\n",
        "photo = PhotoImage(file = \"D:\\\\python\\\\b41915014\\\\3B_0420\\\\jjjj.png\")\n",
        "photo2 = PhotoImage(file = \"D:\\\\python\\\\b41915014\\\\3B_0420\\\\kkkk.png\")\n",
        "label1 =Label(window, image = photo)\n",
        "label2 =Label(window, image = photo2)\n",
        "label1.pack(side = LEFT)\n",
        "label2.pack(side = RIGHT)\n",
        "window.mainloop()"
      ],
      "metadata": {
        "id": "2jWS2lKjlRg5"
      },
      "execution_count": null,
      "outputs": []
    },
    {
      "cell_type": "code",
      "source": [
        "from tkinter import *\n",
        "\n",
        "tk = Tk()\n",
        "tk.geometry(\"400x400\")\n",
        "button1 = Button(tk, text=\"파이썬 종료\", fg=\"blue\", bg= \"yellow\",command=quit)\n",
        "button1.pack()\n",
        "\n",
        "tk.mainloop()"
      ],
      "metadata": {
        "id": "m87CDXBElSHU"
      },
      "execution_count": null,
      "outputs": []
    },
    {
      "cell_type": "code",
      "source": [
        "from tkinter import *\n",
        "from tkinter import messagebox\n",
        "\n",
        "def myFunc():\n",
        "    messagebox.showinfo(\"강아지 버튼\", \"우강귀\")\n",
        "\n",
        "tk = Tk()\n",
        "photo = PhotoImage(file = \"D:\\\\python\\\\b41915014\\\\3B_0420\\\\jjjj.png\")\n",
        "tk.geometry(\"1000x600\")\n",
        "#button1 = Button(tk, text=\"파이썬 종료\", fg=\"blue\", bg= \"yellow\",command=quit)\n",
        "button1 = Button(tk, image = photo, command=myFunc)\n",
        "button1.pack()\n",
        "\n",
        "tk.mainloop()"
      ],
      "metadata": {
        "id": "Xwoe5fXxlVIA"
      },
      "execution_count": null,
      "outputs": []
    }
  ]
}