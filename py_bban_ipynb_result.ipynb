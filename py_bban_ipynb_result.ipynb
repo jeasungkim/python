{
  "nbformat": 4,
  "nbformat_minor": 0,
  "metadata": {
    "colab": {
      "provenance": [],
      "authorship_tag": "ABX9TyOG0JNgaCjMw6X9OenSEORo",
      "include_colab_link": true
    },
    "kernelspec": {
      "name": "python3",
      "display_name": "Python 3"
    },
    "language_info": {
      "name": "python"
    }
  },
  "cells": [
    {
      "cell_type": "markdown",
      "metadata": {
        "id": "view-in-github",
        "colab_type": "text"
      },
      "source": [
        "<a href=\"https://colab.research.google.com/github/jeasungkim/python/blob/main/py_bban_ipynb_result.ipynb\" target=\"_parent\"><img src=\"https://colab.research.google.com/assets/colab-badge.svg\" alt=\"Open In Colab\"/></a>"
      ]
    },
    {
      "cell_type": "markdown",
      "source": [],
      "metadata": {
        "id": "HyuRQGp2nFRx"
      }
    },
    {
      "cell_type": "markdown",
      "source": [
        "# CH1 **파이썬 문법**"
      ],
      "metadata": {
        "id": "_huiFOBnh1TY"
      }
    },
    {
      "cell_type": "markdown",
      "source": [
        "## 자료형\n",
        "#### 숫자형\n",
        "* 정수 : 123,-20, 0  \n",
        "* 실수 : 123.45, -4321.5, 6.08e9  \n",
        "* 8잔수 : 0o456, 0o123 \\\n",
        "* 16진수 : 0xFF, 0x0D, 0x0A"
      ],
      "metadata": {
        "id": "GQhtnyTyiaeS"
      }
    },
    {
      "cell_type": "markdown",
      "source": [
        "#### 변수\n",
        "* 문자 또는 밑줄로 시작(beta,_kim)\n",
        "* 대소문자를 구분한다.(sum, Sum SUM)\n",
        "* 영문자, 숫자, 밑줄(A~z,0~9,_)\n",
        "* 파이썬 키워드는 사용 불가"
      ],
      "metadata": {
        "id": "cQVBkWccoUQe"
      }
    },
    {
      "cell_type": "code",
      "source": [
        "a = 10\n",
        "b = 20\n",
        "c = a + b\n",
        "print(c)"
      ],
      "metadata": {
        "colab": {
          "base_uri": "https://localhost:8080/"
        },
        "id": "e67glPpLjgi7",
        "outputId": "cdb3a8fc-6d80-4f28-8609-82c75d6cb083"
      },
      "execution_count": null,
      "outputs": [
        {
          "output_type": "stream",
          "name": "stdout",
          "text": [
            "30\n"
          ]
        }
      ]
    },
    {
      "cell_type": "code",
      "source": [
        "a = 10\n",
        "b = 2\n",
        "c = a/b #나눗셈\n",
        "d = a-b\n",
        "e = a*b\n",
        "f = a//b # 몪\n",
        "g = a%b #나머지\n",
        "h = a**b #제곱\n",
        "print(c,d,e,f,g,h)\n",
        "# 시험 나옴"
      ],
      "metadata": {
        "colab": {
          "base_uri": "https://localhost:8080/"
        },
        "id": "gVZ8U50PktYq",
        "outputId": "e6aa05bc-3d63-427d-f625-514b7fd67f98"
      },
      "execution_count": null,
      "outputs": [
        {
          "output_type": "stream",
          "name": "stdout",
          "text": [
            "5.0 8 20 5 0 100\n"
          ]
        }
      ]
    },
    {
      "cell_type": "markdown",
      "source": [
        "#### 문자열\n",
        "1. 큰 따옴표 : \"Hello World! it\\'s\"\n",
        "2. 작은 따옴표 : '대한민국'\n",
        "3. 큰따옴표 3 : \"\"\"hello!\"\"\"\n",
        "4. 작은 따옴표 3 :'''Life is too short. You need pyhton.'''"
      ],
      "metadata": {
        "id": "cTFjaL74nIQ4"
      }
    },
    {
      "cell_type": "code",
      "source": [
        "myName = \"jeasung Kim\" # 중간에 대문자 낙타표기법 (카멜)\n",
        "my_name = \"김재성\" # 언더바 스네이크표기법\n",
        "_my_name = \"korea\"\n",
        "MYNAME = \"God is love\" # 앞에대문자 파스칼표기법\n",
        "my2name = \"12345\"\n",
        "# 2myname = \"123\"  my-name = \"231\" my name = \"231\" 안됨 시험출제\n",
        "myStr = '123' #글자 stf\n",
        "myNum = 123 # int\n",
        "\n",
        "print(myStr, myNum)\n",
        "print(type(myStr))\n",
        "print(type(myNum))"
      ],
      "metadata": {
        "id": "V2O5MoRhoFx8",
        "colab": {
          "base_uri": "https://localhost:8080/"
        },
        "outputId": "812eb750-a956-40a6-c8b9-07bf8ef0fed5"
      },
      "execution_count": null,
      "outputs": [
        {
          "output_type": "stream",
          "name": "stdout",
          "text": [
            "123 123\n",
            "<class 'str'>\n",
            "<class 'int'>\n"
          ]
        }
      ]
    },
    {
      "cell_type": "markdown",
      "source": [
        "#### 여러개 변수 할당"
      ],
      "metadata": {
        "id": "iZkUC7u7v7io"
      }
    },
    {
      "cell_type": "code",
      "source": [
        "x,y,z = \"포도\", \"딸기\", \"수박\"\n",
        "print(x)\n",
        "print(y)\n",
        "print(z)"
      ],
      "metadata": {
        "colab": {
          "base_uri": "https://localhost:8080/"
        },
        "id": "4tNz0Uh9wCrL",
        "outputId": "c88423a1-1d5e-44cc-bd9c-4a45e6554a75"
      },
      "execution_count": null,
      "outputs": [
        {
          "output_type": "stream",
          "name": "stdout",
          "text": [
            "포도\n",
            "딸기\n",
            "수박\n"
          ]
        }
      ]
    },
    {
      "cell_type": "code",
      "source": [
        "a = b = c = \"오렌지\"\n",
        "print(a)\n",
        "print(b)\n",
        "print(c)"
      ],
      "metadata": {
        "colab": {
          "base_uri": "https://localhost:8080/"
        },
        "id": "6YVBqpEswcVS",
        "outputId": "b31a9f4e-1bdf-4dc1-c658-ab6841afc035"
      },
      "execution_count": null,
      "outputs": [
        {
          "output_type": "stream",
          "name": "stdout",
          "text": [
            "오렌지\n",
            "오렌지\n",
            "오렌지\n"
          ]
        }
      ]
    },
    {
      "cell_type": "code",
      "source": [
        "fruits = [\"포도\", \"딸기\", \"수박\"]\n",
        "x,y,z = fruits\n",
        "print(x)\n",
        "print(y)\n",
        "print(z)"
      ],
      "metadata": {
        "colab": {
          "base_uri": "https://localhost:8080/"
        },
        "id": "Q5ZDcbH9wx-F",
        "outputId": "8e0051ab-46a3-4573-d43f-c20e685c6f30"
      },
      "execution_count": null,
      "outputs": [
        {
          "output_type": "stream",
          "name": "stdout",
          "text": [
            "포도\n",
            "딸기\n",
            "수박\n"
          ]
        }
      ]
    },
    {
      "cell_type": "code",
      "source": [
        "x = \"Life\"\n",
        "y = \"is\"\n",
        "z = \"beautiful\"\n",
        "print(x,y,z) # ,는 띄어쓰기\n",
        "print(x+y+z)"
      ],
      "metadata": {
        "colab": {
          "base_uri": "https://localhost:8080/"
        },
        "id": "rAe-9GIwxkve",
        "outputId": "34a3cfb2-05cb-4099-cc87-6f5a522a5842"
      },
      "execution_count": null,
      "outputs": [
        {
          "output_type": "stream",
          "name": "stdout",
          "text": [
            "Life is beautiful\n",
            "Lifeisbeautiful\n"
          ]
        }
      ]
    },
    {
      "cell_type": "code",
      "source": [
        "a = 1\n",
        "b = 2\n",
        "c = 3\n",
        "print(a,b,c)\n",
        "print(a+b+c)\n"
      ],
      "metadata": {
        "colab": {
          "base_uri": "https://localhost:8080/"
        },
        "id": "JzVSA_K_yNiS",
        "outputId": "e78c979b-e581-46cd-f2d9-398693a4e8a5"
      },
      "execution_count": null,
      "outputs": [
        {
          "output_type": "stream",
          "name": "stdout",
          "text": [
            "1 2 3\n",
            "6\n"
          ]
        }
      ]
    },
    {
      "cell_type": "markdown",
      "source": [
        "#### 데이터 유형 \n",
        "+ 텍스트\n",
        "+ 숫자\n",
        "+ 불(bool)"
      ],
      "metadata": {
        "id": "wvqTTmzZyo3h"
      }
    },
    {
      "cell_type": "code",
      "source": [
        "a = 100\n",
        "b = 200\n",
        "good = a + b\n",
        "print(a, '+', b, '=', good)\n"
      ],
      "metadata": {
        "colab": {
          "base_uri": "https://localhost:8080/"
        },
        "id": "0teqi9QfzMVw",
        "outputId": "c72d5351-3409-4536-fbae-a8a367fb81e8"
      },
      "execution_count": null,
      "outputs": [
        {
          "output_type": "stream",
          "name": "stdout",
          "text": [
            "100 + 200 = 300\n"
          ]
        }
      ]
    }
  ]
}